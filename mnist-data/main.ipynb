{
  "nbformat": 4,
  "nbformat_minor": 0,
  "metadata": {
    "colab": {
      "name": "main.ipynb",
      "provenance": [],
      "collapsed_sections": []
    },
    "kernelspec": {
      "name": "python3",
      "display_name": "Python 3"
    },
    "language_info": {
      "name": "python"
    },
    "accelerator": "GPU",
    "gpuClass": "standard"
  },
  "cells": [
    {
      "cell_type": "code",
      "execution_count": 1,
      "metadata": {
        "id": "EhkFqd1eIihr"
      },
      "outputs": [],
      "source": [
        "import tensorflow.keras.datasets as dt"
      ]
    },
    {
      "cell_type": "code",
      "source": [
        "mnist = dt.mnist"
      ],
      "metadata": {
        "id": "-dku9DFtIwti"
      },
      "execution_count": 2,
      "outputs": []
    },
    {
      "cell_type": "code",
      "source": [
        "(X_train, y_train), (X_test, y_test) = mnist.load_data()"
      ],
      "metadata": {
        "colab": {
          "base_uri": "https://localhost:8080/"
        },
        "id": "iFMI7TkFI0Vi",
        "outputId": "2e4a3ba3-47d8-4253-eeee-d5f88492cefc"
      },
      "execution_count": 3,
      "outputs": [
        {
          "output_type": "stream",
          "name": "stdout",
          "text": [
            "Downloading data from https://storage.googleapis.com/tensorflow/tf-keras-datasets/mnist.npz\n",
            "11493376/11490434 [==============================] - 0s 0us/step\n",
            "11501568/11490434 [==============================] - 0s 0us/step\n"
          ]
        }
      ]
    },
    {
      "cell_type": "code",
      "source": [
        "X_train.shape, y_train.shape, X_test.shape, y_test.shape"
      ],
      "metadata": {
        "colab": {
          "base_uri": "https://localhost:8080/"
        },
        "id": "w1UovwmLI66q",
        "outputId": "47d1a278-75fa-4d4c-cb18-4144c2f61a8f"
      },
      "execution_count": 5,
      "outputs": [
        {
          "output_type": "execute_result",
          "data": {
            "text/plain": [
              "((60000, 28, 28), (60000,), (10000, 28, 28), (10000,))"
            ]
          },
          "metadata": {},
          "execution_count": 5
        }
      ]
    },
    {
      "cell_type": "code",
      "source": [
        "## Normalizing the data\n",
        "X_train = X_train/255.0\n",
        "X_test = X_test/255.0"
      ],
      "metadata": {
        "id": "U3aSIdIrMEud"
      },
      "execution_count": 28,
      "outputs": []
    },
    {
      "cell_type": "code",
      "source": [
        "import matplotlib.pyplot as plt\n",
        "index = 25\n",
        "print(y_train[index])\n",
        "plt.imshow(X_train[index], cmap='binary');"
      ],
      "metadata": {
        "colab": {
          "base_uri": "https://localhost:8080/",
          "height": 282
        },
        "id": "4ZY-avbrMPDs",
        "outputId": "9ee33965-7519-4508-c3a9-4a3f85182db2"
      },
      "execution_count": 33,
      "outputs": [
        {
          "output_type": "stream",
          "name": "stdout",
          "text": [
            "2\n"
          ]
        },
        {
          "output_type": "display_data",
          "data": {
            "text/plain": [
              "<Figure size 432x288 with 1 Axes>"
            ],
            "image/png": "[encoded data removed]"
          },
          "metadata": {
            "needs_background": "light"
          }
        }
      ]
    },
    {
      "cell_type": "code",
      "source": [
        "## Let's check no of categories are there\n",
        "set(y_train)"
      ],
      "metadata": {
        "colab": {
          "base_uri": "https://localhost:8080/"
        },
        "id": "EO4AxESyJpHG",
        "outputId": "38566c03-7d73-4e31-dc6b-7fa2a691b447"
      },
      "execution_count": 10,
      "outputs": [
        {
          "output_type": "execute_result",
          "data": {
            "text/plain": [
              "{0, 1, 2, 3, 4, 5, 6, 7, 8, 9}"
            ]
          },
          "metadata": {},
          "execution_count": 10
        }
      ]
    },
    {
      "cell_type": "code",
      "source": [
        "## There are total of 10 labels or features\n",
        "y = y_train.reshape(-1, 1)"
      ],
      "metadata": {
        "id": "jQ76u9iEJo_7"
      },
      "execution_count": 20,
      "outputs": []
    },
    {
      "cell_type": "code",
      "source": [
        "## Here data is already inbuilt\n",
        "## Let's create a model\n",
        "from tensorflow.keras import layers, models"
      ],
      "metadata": {
        "id": "lnaEol8EI6zC"
      },
      "execution_count": 7,
      "outputs": []
    },
    {
      "cell_type": "code",
      "source": [
        "model = models.Sequential([\n",
        "                           layers.Flatten(),\n",
        "                           layers.Dense(64,activation = 'relu'),\n",
        "                           layers.Dense(128, activation = 'relu'),\n",
        "                           layers.Dense(10, activation = 'softmax')\n",
        "])"
      ],
      "metadata": {
        "id": "Nan1lNl1I6r6"
      },
      "execution_count": 41,
      "outputs": []
    },
    {
      "cell_type": "code",
      "source": [
        "model.compile(optimizer='adam', loss = 'sparse_categorical_crossentropy', metrics = ['accuracy'])"
      ],
      "metadata": {
        "id": "mjMmRARVI6kc"
      },
      "execution_count": 42,
      "outputs": []
    },
    {
      "cell_type": "code",
      "source": [
        "history = model.fit(X_train, y, epochs = 30, validation_split=0.2, batch_size = 32)"
      ],
      "metadata": {
        "colab": {
          "base_uri": "https://localhost:8080/"
        },
        "id": "T1MbWnFFI6TB",
        "outputId": "1d288e3e-2830-4e21-c175-f3e76887b18a"
      },
      "execution_count": 43,
      "outputs": [
        {
          "output_type": "stream",
          "name": "stdout",
          "text": [
            "Epoch 1/30\n",
            "1500/1500 [==============================] - 4s 3ms/step - loss: 0.2971 - accuracy: 0.9130 - val_loss: 0.1697 - val_accuracy: 0.9509\n",
            "Epoch 2/30\n",
            "1500/1500 [==============================] - 4s 3ms/step - loss: 0.1283 - accuracy: 0.9607 - val_loss: 0.1254 - val_accuracy: 0.9627\n",
            "Epoch 3/30\n",
            "1500/1500 [==============================] - 4s 3ms/step - loss: 0.0917 - accuracy: 0.9715 - val_loss: 0.0975 - val_accuracy: 0.9732\n",
            "Epoch 4/30\n",
            "1500/1500 [==============================] - 4s 3ms/step - loss: 0.0688 - accuracy: 0.9780 - val_loss: 0.1179 - val_accuracy: 0.9643\n",
            "Epoch 5/30\n",
            "1500/1500 [==============================] - 4s 3ms/step - loss: 0.0556 - accuracy: 0.9822 - val_loss: 0.1107 - val_accuracy: 0.9692\n",
            "Epoch 6/30\n",
            "1500/1500 [==============================] - 4s 3ms/step - loss: 0.0473 - accuracy: 0.9848 - val_loss: 0.1111 - val_accuracy: 0.9694\n",
            "Epoch 7/30\n",
            "1500/1500 [==============================] - 4s 3ms/step - loss: 0.0369 - accuracy: 0.9883 - val_loss: 0.1202 - val_accuracy: 0.9681\n",
            "Epoch 8/30\n",
            "1500/1500 [==============================] - 4s 3ms/step - loss: 0.0333 - accuracy: 0.9892 - val_loss: 0.1102 - val_accuracy: 0.9703\n",
            "Epoch 9/30\n",
            "1500/1500 [==============================] - 4s 3ms/step - loss: 0.0281 - accuracy: 0.9910 - val_loss: 0.1072 - val_accuracy: 0.9730\n",
            "Epoch 10/30\n",
            "1500/1500 [==============================] - 4s 3ms/step - loss: 0.0254 - accuracy: 0.9914 - val_loss: 0.1256 - val_accuracy: 0.9710\n",
            "Epoch 11/30\n",
            "1500/1500 [==============================] - 4s 3ms/step - loss: 0.0216 - accuracy: 0.9927 - val_loss: 0.1167 - val_accuracy: 0.9731\n",
            "Epoch 12/30\n",
            "1500/1500 [==============================] - 4s 3ms/step - loss: 0.0203 - accuracy: 0.9928 - val_loss: 0.1361 - val_accuracy: 0.9709\n",
            "Epoch 13/30\n",
            "1500/1500 [==============================] - 4s 3ms/step - loss: 0.0171 - accuracy: 0.9944 - val_loss: 0.1235 - val_accuracy: 0.9745\n",
            "Epoch 14/30\n",
            "1500/1500 [==============================] - 4s 3ms/step - loss: 0.0172 - accuracy: 0.9941 - val_loss: 0.1452 - val_accuracy: 0.9734\n",
            "Epoch 15/30\n",
            "1500/1500 [==============================] - 5s 3ms/step - loss: 0.0177 - accuracy: 0.9944 - val_loss: 0.1436 - val_accuracy: 0.9718\n",
            "Epoch 16/30\n",
            "1500/1500 [==============================] - 4s 3ms/step - loss: 0.0139 - accuracy: 0.9954 - val_loss: 0.1267 - val_accuracy: 0.9755\n",
            "Epoch 17/30\n",
            "1500/1500 [==============================] - 4s 3ms/step - loss: 0.0132 - accuracy: 0.9961 - val_loss: 0.1487 - val_accuracy: 0.9738\n",
            "Epoch 18/30\n",
            "1500/1500 [==============================] - 4s 3ms/step - loss: 0.0130 - accuracy: 0.9959 - val_loss: 0.1464 - val_accuracy: 0.9737\n",
            "Epoch 19/30\n",
            "1500/1500 [==============================] - 4s 3ms/step - loss: 0.0118 - accuracy: 0.9960 - val_loss: 0.1705 - val_accuracy: 0.9703\n",
            "Epoch 20/30\n",
            "1500/1500 [==============================] - 4s 3ms/step - loss: 0.0119 - accuracy: 0.9963 - val_loss: 0.1888 - val_accuracy: 0.9701\n",
            "Epoch 21/30\n",
            "1500/1500 [==============================] - 4s 3ms/step - loss: 0.0142 - accuracy: 0.9956 - val_loss: 0.1553 - val_accuracy: 0.9737\n",
            "Epoch 22/30\n",
            "1500/1500 [==============================] - 4s 3ms/step - loss: 0.0117 - accuracy: 0.9965 - val_loss: 0.1634 - val_accuracy: 0.9737\n",
            "Epoch 23/30\n",
            "1500/1500 [==============================] - 4s 3ms/step - loss: 0.0078 - accuracy: 0.9976 - val_loss: 0.1620 - val_accuracy: 0.9740\n",
            "Epoch 24/30\n",
            "1500/1500 [==============================] - 4s 3ms/step - loss: 0.0111 - accuracy: 0.9963 - val_loss: 0.1671 - val_accuracy: 0.9735\n",
            "Epoch 25/30\n",
            "1500/1500 [==============================] - 4s 3ms/step - loss: 0.0062 - accuracy: 0.9979 - val_loss: 0.1690 - val_accuracy: 0.9747\n",
            "Epoch 26/30\n",
            "1500/1500 [==============================] - 4s 3ms/step - loss: 0.0121 - accuracy: 0.9958 - val_loss: 0.1640 - val_accuracy: 0.9758\n",
            "Epoch 27/30\n",
            "1500/1500 [==============================] - 4s 3ms/step - loss: 0.0108 - accuracy: 0.9967 - val_loss: 0.1769 - val_accuracy: 0.9744\n",
            "Epoch 28/30\n",
            "1500/1500 [==============================] - 4s 3ms/step - loss: 0.0089 - accuracy: 0.9972 - val_loss: 0.1979 - val_accuracy: 0.9720\n",
            "Epoch 29/30\n",
            "1500/1500 [==============================] - 4s 3ms/step - loss: 0.0100 - accuracy: 0.9965 - val_loss: 0.1853 - val_accuracy: 0.9727\n",
            "Epoch 30/30\n",
            "1500/1500 [==============================] - 4s 3ms/step - loss: 0.0068 - accuracy: 0.9976 - val_loss: 0.1743 - val_accuracy: 0.9753\n"
          ]
        }
      ]
    },
    {
      "cell_type": "code",
      "source": [
        "## Printing the accuracy graph and loss graph\n",
        "plt.plot(history.history['accuracy'])\n",
        "plt.plot(history.history['val_accuracy'])\n",
        "plt.legend(['accuracy', 'val_accuracy'])\n",
        "plt.title('accuracy graph')\n",
        "plt.show()"
      ],
      "metadata": {
        "colab": {
          "base_uri": "https://localhost:8080/",
          "height": 281
        },
        "id": "2EViSYlaL1tP",
        "outputId": "a34c620a-0eda-4900-e11d-d1d66602d335"
      },
      "execution_count": 44,
      "outputs": [
        {
          "output_type": "display_data",
          "data": {
            "text/plain": [
              "<Figure size 432x288 with 1 Axes>"
            ],
            "image/png": "[encoded data removed]"
          },
          "metadata": {
            "needs_background": "light"
          }
        }
      ]
    },
    {
      "cell_type": "code",
      "source": [
        "plt.plot(history.history['loss'])\n",
        "plt.plot(history.history['val_loss'])\n",
        "plt.legend(['loss', 'val_loss'])\n",
        "plt.title('loss graph')\n",
        "plt.show()"
      ],
      "metadata": {
        "colab": {
          "base_uri": "https://localhost:8080/",
          "height": 281
        },
        "id": "Im3ssdWfOwq0",
        "outputId": "08add82e-d4f0-4eae-f406-3690641d941a"
      },
      "execution_count": 45,
      "outputs": [
        {
          "output_type": "display_data",
          "data": {
            "text/plain": [
              "<Figure size 432x288 with 1 Axes>"
            ],
            "image/png": "[encoded data removed]"
          },
          "metadata": {
            "needs_background": "light"
          }
        }
      ]
    },
    {
      "cell_type": "code",
      "source": [
        "pred = model.predict(X_test)"
      ],
      "metadata": {
        "id": "j_SiuXx7OwmD"
      },
      "execution_count": 46,
      "outputs": []
    },
    {
      "cell_type": "code",
      "source": [
        "import numpy as np\n",
        "\n",
        "def get_index(pred):\n",
        "    ind = []\n",
        "    for p in pred:\n",
        "      pd = 0\n",
        "      indx = 0\n",
        "      for i, val in enumerate(p):\n",
        "          if val > pd:\n",
        "              pd = val\n",
        "              indx = i\n",
        "      ind.append(indx)\n",
        "    return np.array(ind)"
      ],
      "metadata": {
        "id": "ZjD4BdVeOwhl"
      },
      "execution_count": 66,
      "outputs": []
    },
    {
      "cell_type": "code",
      "source": [
        "from sklearn.metrics import accuracy_score\n",
        "\n",
        "accuracy_score(get_index(pred), y_test)"
      ],
      "metadata": {
        "colab": {
          "base_uri": "https://localhost:8080/"
        },
        "id": "2vfk3231P2-Q",
        "outputId": "b0d7387e-ac21-494f-a560-73b11bd72b8e"
      },
      "execution_count": 67,
      "outputs": [
        {
          "output_type": "execute_result",
          "data": {
            "text/plain": [
              "0.9762"
            ]
          },
          "metadata": {},
          "execution_count": 67
        }
      ]
    },
    {
      "cell_type": "code",
      "source": [
        ""
      ],
      "metadata": {
        "id": "V5F52h9HQ2-z"
      },
      "execution_count": null,
      "outputs": []
    }
  ]
}