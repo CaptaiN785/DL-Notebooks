{
  "nbformat": 4,
  "nbformat_minor": 0,
  "metadata": {
    "colab": {
      "name": "cifar_transfer_learning.ipynb",
      "provenance": [],
      "collapsed_sections": [],
      "authorship_tag": "ABX9TyOpMH/EHG2nQAKeIUvwle2P",
      "include_colab_link": true
    },
    "kernelspec": {
      "name": "python3",
      "display_name": "Python 3"
    },
    "language_info": {
      "name": "python"
    },
    "accelerator": "GPU",
    "gpuClass": "standard"
  },
  "cells": [
    {
      "cell_type": "markdown",
      "metadata": {
        "id": "view-in-github",
        "colab_type": "text"
      },
      "source": [
        "<a href=\"https://colab.research.google.com/github/CaptaiN785/DL-Notebooks/blob/main/Cifar10/cifar_transfer_learning.ipynb\" target=\"_parent\"><img src=\"https://colab.research.google.com/assets/colab-badge.svg\" alt=\"Open In Colab\"/></a>"
      ]
    },
    {
      "cell_type": "code",
      "execution_count": 3,
      "metadata": {
        "id": "TxpWut8KhppT"
      },
      "outputs": [],
      "source": [
        "import tensorflow as tf"
      ]
    },
    {
      "cell_type": "code",
      "source": [
        "import matplotlib.pyplot as plt\n",
        "import numpy as np"
      ],
      "metadata": {
        "id": "Nbl4TI4wo57d"
      },
      "execution_count": 24,
      "outputs": []
    },
    {
      "cell_type": "code",
      "source": [
        "(X_train, y_train), (X_test, y_test) =  tf.keras.datasets.cifar10.load_data()"
      ],
      "metadata": {
        "id": "a1ymuP2qh2cn"
      },
      "execution_count": 4,
      "outputs": []
    },
    {
      "cell_type": "code",
      "source": [
        "X_train.shape, y_train.shape, X_test.shape, y_test.shape"
      ],
      "metadata": {
        "colab": {
          "base_uri": "https://localhost:8080/"
        },
        "id": "MTGHieHXiEQK",
        "outputId": "1d29d409-79c3-4caa-e6e6-ffad000f209e"
      },
      "execution_count": 5,
      "outputs": [
        {
          "output_type": "execute_result",
          "data": {
            "text/plain": [
              "((50000, 32, 32, 3), (50000, 1), (10000, 32, 32, 3), (10000, 1))"
            ]
          },
          "metadata": {},
          "execution_count": 5
        }
      ]
    },
    {
      "cell_type": "code",
      "source": [
        "## Cheking the upsampling of images\n",
        "index = 1244\n",
        "img = X_train[index]\n",
        "print(img.shape)\n",
        "plt.imshow(img)\n",
        "plt.axis(\"off\")\n",
        "plt.show()"
      ],
      "metadata": {
        "colab": {
          "base_uri": "https://localhost:8080/",
          "height": 266
        },
        "id": "Pt-WPZhKo1u5",
        "outputId": "59735a62-d1bd-4022-b99f-00f5c9f4a3b7"
      },
      "execution_count": 31,
      "outputs": [
        {
          "output_type": "stream",
          "name": "stdout",
          "text": [
            "(32, 32, 3)\n"
          ]
        },
        {
          "output_type": "display_data",
          "data": {
            "text/plain": [
              "<Figure size 432x288 with 1 Axes>"
            ],
            "image/png": "[encoded data removed]"
          },
          "metadata": {
            "needs_background": "light"
          }
        }
      ]
    },
    {
      "cell_type": "code",
      "source": [
        "## Now upscaling the image\n",
        "\n",
        "resize = tf.keras.layers.UpSampling2D(size=(7, 7))\n",
        "img = resize(np.expand_dims(X_train[index], 0))\n",
        "print(img[0].shape)\n",
        "plt.imshow(img[0])\n",
        "plt.axis(\"off\")\n",
        "plt.show()"
      ],
      "metadata": {
        "colab": {
          "base_uri": "https://localhost:8080/",
          "height": 266
        },
        "id": "NAQDK_-fpYVY",
        "outputId": "ff26e97f-edbf-428f-c84a-cdb87833f1c4"
      },
      "execution_count": 32,
      "outputs": [
        {
          "output_type": "stream",
          "name": "stdout",
          "text": [
            "(224, 224, 3)\n"
          ]
        },
        {
          "output_type": "display_data",
          "data": {
            "text/plain": [
              "<Figure size 432x288 with 1 Axes>"
            ],
            "image/png": "[encoded data removed]"
          },
          "metadata": {
            "needs_background": "light"
          }
        }
      ]
    },
    {
      "cell_type": "code",
      "source": [
        "def feature_extractor(input):\n",
        "    feature_extracted = tf.keras.applications.resnet.ResNet50(\n",
        "        input_shape=(224, 224, 3),\n",
        "        include_top = False,\n",
        "        weights='imagenet'\n",
        "    )(input)\n",
        "    return feature_extracted"
      ],
      "metadata": {
        "id": "9RP_2gtniT0O"
      },
      "execution_count": 71,
      "outputs": []
    },
    {
      "cell_type": "code",
      "source": [
        "def classifier(input):\n",
        "    x = tf.keras.layers.GlobalAveragePooling2D()(input)\n",
        "    x = tf.keras.layers.Flatten()(x)\n",
        "    x = tf.keras.layers.Dense(1024, activation = 'relu')(x)\n",
        "    x = tf.keras.layers.Dense(512, activation = 'relu')(x)\n",
        "    x = tf.keras.layers.Dense(10, activation = 'softmax', name ='classification')(x)\n",
        "    return x"
      ],
      "metadata": {
        "id": "0MRd31pojCfU"
      },
      "execution_count": 72,
      "outputs": []
    },
    {
      "cell_type": "code",
      "source": [
        "def final_model(input):\n",
        "    resize = tf.keras.layers.UpSampling2D(size = (7,7))(input)\n",
        "    feature_extracted = feature_extractor(resize)\n",
        "    classification = classifier(feature_extracted)\n",
        "    return classification"
      ],
      "metadata": {
        "id": "5Gu9bangjgfc"
      },
      "execution_count": 73,
      "outputs": []
    },
    {
      "cell_type": "code",
      "source": [
        "def build_model():\n",
        "    inputs = tf.keras.layers.Input(shape = (32, 32, 3))\n",
        "    outputs = final_model(inputs)\n",
        "    model = tf.keras.models.Model(inputs = inputs, outputs = outputs)\n",
        "    model.compile(optimizer = 'adam',\n",
        "                  loss = 'sparse_categorical_crossentropy',\n",
        "                  metrics = ['acc'])\n",
        "    return model"
      ],
      "metadata": {
        "id": "FxuEaNRqkH85"
      },
      "execution_count": 74,
      "outputs": []
    },
    {
      "cell_type": "code",
      "source": [
        "model = build_model()\n",
        "model.summary()"
      ],
      "metadata": {
        "colab": {
          "base_uri": "https://localhost:8080/"
        },
        "id": "XAYVeUmDns6H",
        "outputId": "cc542ab2-78dc-4a18-d4ba-4635d887574d"
      },
      "execution_count": 75,
      "outputs": [
        {
          "output_type": "stream",
          "name": "stdout",
          "text": [
            "Model: \"model_3\"\n",
            "_________________________________________________________________\n",
            " Layer (type)                Output Shape              Param #   \n",
            "=================================================================\n",
            " input_18 (InputLayer)       [(None, 32, 32, 3)]       0         \n",
            "                                                                 \n",
            " up_sampling2d_15 (UpSamplin  (None, 224, 224, 3)      0         \n",
            " g2D)                                                            \n",
            "                                                                 \n",
            " resnet50 (Functional)       (None, 7, 7, 2048)        23587712  \n",
            "                                                                 \n",
            " global_average_pooling2d_12  (None, 2048)             0         \n",
            "  (GlobalAveragePooling2D)                                       \n",
            "                                                                 \n",
            " flatten_4 (Flatten)         (None, 2048)              0         \n",
            "                                                                 \n",
            " dense_5 (Dense)             (None, 1024)              2098176   \n",
            "                                                                 \n",
            " dense_6 (Dense)             (None, 512)               524800    \n",
            "                                                                 \n",
            " classification (Dense)      (None, 10)                5130      \n",
            "                                                                 \n",
            "=================================================================\n",
            "Total params: 26,215,818\n",
            "Trainable params: 26,162,698\n",
            "Non-trainable params: 53,120\n",
            "_________________________________________________________________\n"
          ]
        }
      ]
    },
    {
      "cell_type": "code",
      "source": [
        "model.fit(X_train,\n",
        "          y_train, \n",
        "          epochs = 3,\n",
        "          validation_split = 0.2,\n",
        "          batch_size = 128\n",
        "          )"
      ],
      "metadata": {
        "colab": {
          "base_uri": "https://localhost:8080/"
        },
        "id": "-HIu6DkTkNya",
        "outputId": "86d0f2ff-4fd8-4eff-cd38-573be3426972"
      },
      "execution_count": 78,
      "outputs": [
        {
          "output_type": "stream",
          "name": "stdout",
          "text": [
            "Epoch 1/3\n",
            "313/313 [==============================] - 437s 1s/step - loss: 0.5832 - acc: 0.7992 - val_loss: 0.6289 - val_acc: 0.7881\n",
            "Epoch 2/3\n",
            "313/313 [==============================] - 433s 1s/step - loss: 0.3880 - acc: 0.8687 - val_loss: 0.9777 - val_acc: 0.7011\n",
            "Epoch 3/3\n",
            "313/313 [==============================] - 444s 1s/step - loss: 0.2864 - acc: 0.9027 - val_loss: 0.8494 - val_acc: 0.7469\n"
          ]
        },
        {
          "output_type": "execute_result",
          "data": {
            "text/plain": [
              "<keras.callbacks.History at 0x7fdb5a70bfd0>"
            ]
          },
          "metadata": {},
          "execution_count": 78
        }
      ]
    },
    {
      "cell_type": "code",
      "source": [
        "## One thing here can be done is preprocess the input according to resnet"
      ],
      "metadata": {
        "id": "JHj1_rSKkiK1"
      },
      "execution_count": 79,
      "outputs": []
    },
    {
      "cell_type": "code",
      "source": [
        "def preprocess_image_input(input_images):\n",
        "  input_images = input_images.astype('float32')\n",
        "  output_ims = tf.keras.applications.resnet50.preprocess_input(input_images)\n",
        "  return output_ims\n",
        "\n",
        "train_X = preprocess_image_input(X_train)\n",
        "valid_X = preprocess_image_input(X_test)"
      ],
      "metadata": {
        "id": "Ht4B8fR20TGN"
      },
      "execution_count": 80,
      "outputs": []
    },
    {
      "cell_type": "code",
      "source": [
        "train_X.shape, valid_X.shape"
      ],
      "metadata": {
        "colab": {
          "base_uri": "https://localhost:8080/"
        },
        "id": "y91Bek5g3SKm",
        "outputId": "da78daac-42f2-430a-cf83-afc40effdd01"
      },
      "execution_count": 82,
      "outputs": [
        {
          "output_type": "execute_result",
          "data": {
            "text/plain": [
              "((50000, 32, 32, 3), (10000, 32, 32, 3))"
            ]
          },
          "metadata": {},
          "execution_count": 82
        }
      ]
    },
    {
      "cell_type": "code",
      "source": [
        "new_model = build_model()\n",
        "new_model.fit(train_X, y_train, batch_size = 64, validation_split = 0.2, epochs = 3)"
      ],
      "metadata": {
        "colab": {
          "base_uri": "https://localhost:8080/"
        },
        "id": "OePzk4fC3Umm",
        "outputId": "e8c9d369-153b-4211-dbaf-b68a7cd1f5ea"
      },
      "execution_count": 83,
      "outputs": [
        {
          "output_type": "stream",
          "name": "stdout",
          "text": [
            "Epoch 1/3\n",
            "625/625 [==============================] - 415s 657ms/step - loss: 0.7849 - acc: 0.7361 - val_loss: 0.7115 - val_acc: 0.7676\n",
            "Epoch 2/3\n",
            "625/625 [==============================] - 409s 655ms/step - loss: 0.4471 - acc: 0.8486 - val_loss: 0.5773 - val_acc: 0.8053\n",
            "Epoch 3/3\n",
            "625/625 [==============================] - 409s 655ms/step - loss: 0.3261 - acc: 0.8898 - val_loss: 0.5833 - val_acc: 0.8069\n"
          ]
        },
        {
          "output_type": "execute_result",
          "data": {
            "text/plain": [
              "<keras.callbacks.History at 0x7fdbd68c6510>"
            ]
          },
          "metadata": {},
          "execution_count": 83
        }
      ]
    },
    {
      "cell_type": "code",
      "source": [
        "new_model.evaluate(valid_X, y_test)"
      ],
      "metadata": {
        "colab": {
          "base_uri": "https://localhost:8080/"
        },
        "id": "qWNo_iaj3it4",
        "outputId": "d7ec4988-207b-433f-9a16-ea0dfae259b2"
      },
      "execution_count": 84,
      "outputs": [
        {
          "output_type": "stream",
          "name": "stdout",
          "text": [
            "313/313 [==============================] - 30s 95ms/step - loss: 0.6029 - acc: 0.8008\n"
          ]
        },
        {
          "output_type": "execute_result",
          "data": {
            "text/plain": [
              "[0.6029356122016907, 0.8008000254631042]"
            ]
          },
          "metadata": {},
          "execution_count": 84
        }
      ]
    },
    {
      "cell_type": "code",
      "source": [
        ""
      ],
      "metadata": {
        "id": "4oLVvIdV8qu2"
      },
      "execution_count": null,
      "outputs": []
    }
  ]
}