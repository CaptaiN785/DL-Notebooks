{
  "nbformat": 4,
  "nbformat_minor": 0,
  "metadata": {
    "colab": {
      "name": "main.ipynb",
      "provenance": [],
      "collapsed_sections": [],
      "authorship_tag": "ABX9TyOa32K1sVniu7LknpEM9SoC",
      "include_colab_link": true
    },
    "kernelspec": {
      "name": "python3",
      "display_name": "Python 3"
    },
    "language_info": {
      "name": "python"
    },
    "accelerator": "GPU",
    "gpuClass": "standard"
  },
  "cells": [
    {
      "cell_type": "markdown",
      "metadata": {
        "id": "view-in-github",
        "colab_type": "text"
      },
      "source": [
        "<a href=\"https://colab.research.google.com/github/CaptaiN785/DL-Notebooks/blob/main/mnist-digit-recognition/main.ipynb\" target=\"_parent\"><img src=\"https://colab.research.google.com/assets/colab-badge.svg\" alt=\"Open In Colab\"/></a>"
      ]
    },
    {
      "cell_type": "code",
      "execution_count": 1,
      "metadata": {
        "id": "EhkFqd1eIihr"
      },
      "outputs": [],
      "source": [
        "import tensorflow.keras.datasets as dt"
      ]
    },
    {
      "cell_type": "code",
      "source": [
        "mnist = dt.mnist"
      ],
      "metadata": {
        "id": "-dku9DFtIwti"
      },
      "execution_count": 2,
      "outputs": []
    },
    {
      "cell_type": "code",
      "source": [
        "(X_train, y_train), (X_test, y_test) = mnist.load_data()"
      ],
      "metadata": {
        "id": "iFMI7TkFI0Vi"
      },
      "execution_count": 106,
      "outputs": []
    },
    {
      "cell_type": "code",
      "source": [
        "X_train.shape, y_train.shape, X_test.shape, y_test.shape"
      ],
      "metadata": {
        "colab": {
          "base_uri": "https://localhost:8080/"
        },
        "id": "w1UovwmLI66q",
        "outputId": "2378ec96-d447-4bf1-bcd5-229c236ff317"
      },
      "execution_count": 4,
      "outputs": [
        {
          "output_type": "execute_result",
          "data": {
            "text/plain": [
              "((60000, 28, 28), (60000,), (10000, 28, 28), (10000,))"
            ]
          },
          "metadata": {},
          "execution_count": 4
        }
      ]
    },
    {
      "cell_type": "code",
      "source": [
        "## Normalizing the data\n",
        "X_train = X_train/255.0\n",
        "X_test = X_test/255.0"
      ],
      "metadata": {
        "id": "U3aSIdIrMEud"
      },
      "execution_count": 5,
      "outputs": []
    },
    {
      "cell_type": "code",
      "source": [
        "import matplotlib.pyplot as plt\n",
        "index = 25\n",
        "print(y_train[index])\n",
        "plt.imshow(X_train[index], cmap='binary');"
      ],
      "metadata": {
        "colab": {
          "base_uri": "https://localhost:8080/",
          "height": 282
        },
        "id": "4ZY-avbrMPDs",
        "outputId": "6d56ca31-30b2-4b54-bddd-e53ba20a3d93"
      },
      "execution_count": 6,
      "outputs": [
        {
          "output_type": "stream",
          "name": "stdout",
          "text": [
            "2\n"
          ]
        },
        {
          "output_type": "display_data",
          "data": {
            "text/plain": [
              "<Figure size 432x288 with 1 Axes>"
            ],
            "image/png": "[encoded data removed]"
          },
          "metadata": {
            "needs_background": "light"
          }
        }
      ]
    },
    {
      "cell_type": "code",
      "source": [
        "## Let's check no of categories are there\n",
        "set(y_train)"
      ],
      "metadata": {
        "colab": {
          "base_uri": "https://localhost:8080/"
        },
        "id": "EO4AxESyJpHG",
        "outputId": "a8b1ce71-9251-43b1-fba1-1ead4fec8060"
      },
      "execution_count": 7,
      "outputs": [
        {
          "output_type": "execute_result",
          "data": {
            "text/plain": [
              "{0, 1, 2, 3, 4, 5, 6, 7, 8, 9}"
            ]
          },
          "metadata": {},
          "execution_count": 7
        }
      ]
    },
    {
      "cell_type": "code",
      "source": [
        "## There are total of 10 labels or features\n",
        "y = y_train.reshape(-1, 1)"
      ],
      "metadata": {
        "id": "jQ76u9iEJo_7"
      },
      "execution_count": 8,
      "outputs": []
    },
    {
      "cell_type": "code",
      "source": [
        "## Here data is already inbuilt\n",
        "## Let's create a model\n",
        "from tensorflow.keras import layers, models"
      ],
      "metadata": {
        "id": "lnaEol8EI6zC"
      },
      "execution_count": 9,
      "outputs": []
    },
    {
      "cell_type": "code",
      "source": [
        "model = models.Sequential([\n",
        "                           layers.Flatten(),\n",
        "                           layers.Dense(64,activation = 'relu'),\n",
        "                           layers.Dense(128, activation = 'relu'),\n",
        "                           layers.Dense(10, activation = 'softmax')\n",
        "])"
      ],
      "metadata": {
        "id": "Nan1lNl1I6r6"
      },
      "execution_count": 10,
      "outputs": []
    },
    {
      "cell_type": "code",
      "source": [
        "model.compile(optimizer='adam', loss = 'sparse_categorical_crossentropy', metrics = ['accuracy'])"
      ],
      "metadata": {
        "id": "mjMmRARVI6kc"
      },
      "execution_count": 11,
      "outputs": []
    },
    {
      "cell_type": "code",
      "source": [
        "history = model.fit(X_train, y, epochs = 30, validation_split=0.2, batch_size = 32)"
      ],
      "metadata": {
        "colab": {
          "base_uri": "https://localhost:8080/"
        },
        "id": "T1MbWnFFI6TB",
        "outputId": "ccc9386c-7a3f-4fcb-baa6-5022b05d27da"
      },
      "execution_count": 12,
      "outputs": [
        {
          "output_type": "stream",
          "name": "stdout",
          "text": [
            "Epoch 1/30\n",
            "1500/1500 [==============================] - 12s 5ms/step - loss: 0.2919 - accuracy: 0.9141 - val_loss: 0.1931 - val_accuracy: 0.9430\n",
            "Epoch 2/30\n",
            "1500/1500 [==============================] - 4s 3ms/step - loss: 0.1315 - accuracy: 0.9600 - val_loss: 0.1209 - val_accuracy: 0.9622\n",
            "Epoch 3/30\n",
            "1500/1500 [==============================] - 4s 3ms/step - loss: 0.0932 - accuracy: 0.9712 - val_loss: 0.1164 - val_accuracy: 0.9652\n",
            "Epoch 4/30\n",
            "1500/1500 [==============================] - 4s 3ms/step - loss: 0.0716 - accuracy: 0.9775 - val_loss: 0.1060 - val_accuracy: 0.9678\n",
            "Epoch 5/30\n",
            "1500/1500 [==============================] - 4s 3ms/step - loss: 0.0601 - accuracy: 0.9808 - val_loss: 0.1074 - val_accuracy: 0.9683\n",
            "Epoch 6/30\n",
            "1500/1500 [==============================] - 4s 3ms/step - loss: 0.0465 - accuracy: 0.9847 - val_loss: 0.0948 - val_accuracy: 0.9737\n",
            "Epoch 7/30\n",
            "1500/1500 [==============================] - 4s 3ms/step - loss: 0.0403 - accuracy: 0.9873 - val_loss: 0.0931 - val_accuracy: 0.9730\n",
            "Epoch 8/30\n",
            "1500/1500 [==============================] - 4s 3ms/step - loss: 0.0317 - accuracy: 0.9897 - val_loss: 0.1003 - val_accuracy: 0.9737\n",
            "Epoch 9/30\n",
            "1500/1500 [==============================] - 4s 3ms/step - loss: 0.0288 - accuracy: 0.9902 - val_loss: 0.1109 - val_accuracy: 0.9728\n",
            "Epoch 10/30\n",
            "1500/1500 [==============================] - 4s 3ms/step - loss: 0.0252 - accuracy: 0.9918 - val_loss: 0.1085 - val_accuracy: 0.9728\n",
            "Epoch 11/30\n",
            "1500/1500 [==============================] - 4s 3ms/step - loss: 0.0227 - accuracy: 0.9919 - val_loss: 0.1188 - val_accuracy: 0.9703\n",
            "Epoch 12/30\n",
            "1500/1500 [==============================] - 4s 3ms/step - loss: 0.0197 - accuracy: 0.9934 - val_loss: 0.1062 - val_accuracy: 0.9746\n",
            "Epoch 13/30\n",
            "1500/1500 [==============================] - 4s 3ms/step - loss: 0.0165 - accuracy: 0.9943 - val_loss: 0.1258 - val_accuracy: 0.9729\n",
            "Epoch 14/30\n",
            "1500/1500 [==============================] - 4s 3ms/step - loss: 0.0167 - accuracy: 0.9945 - val_loss: 0.1318 - val_accuracy: 0.9712\n",
            "Epoch 15/30\n",
            "1500/1500 [==============================] - 4s 3ms/step - loss: 0.0148 - accuracy: 0.9951 - val_loss: 0.1351 - val_accuracy: 0.9742\n",
            "Epoch 16/30\n",
            "1500/1500 [==============================] - 4s 3ms/step - loss: 0.0156 - accuracy: 0.9948 - val_loss: 0.1348 - val_accuracy: 0.9753\n",
            "Epoch 17/30\n",
            "1500/1500 [==============================] - 4s 3ms/step - loss: 0.0122 - accuracy: 0.9958 - val_loss: 0.1753 - val_accuracy: 0.9700\n",
            "Epoch 18/30\n",
            "1500/1500 [==============================] - 4s 3ms/step - loss: 0.0113 - accuracy: 0.9962 - val_loss: 0.1484 - val_accuracy: 0.9752\n",
            "Epoch 19/30\n",
            "1500/1500 [==============================] - 4s 3ms/step - loss: 0.0143 - accuracy: 0.9952 - val_loss: 0.1593 - val_accuracy: 0.9742\n",
            "Epoch 20/30\n",
            "1500/1500 [==============================] - 4s 3ms/step - loss: 0.0111 - accuracy: 0.9964 - val_loss: 0.1590 - val_accuracy: 0.9732\n",
            "Epoch 21/30\n",
            "1500/1500 [==============================] - 4s 3ms/step - loss: 0.0096 - accuracy: 0.9969 - val_loss: 0.1548 - val_accuracy: 0.9741\n",
            "Epoch 22/30\n",
            "1500/1500 [==============================] - 4s 3ms/step - loss: 0.0128 - accuracy: 0.9961 - val_loss: 0.1450 - val_accuracy: 0.9768\n",
            "Epoch 23/30\n",
            "1500/1500 [==============================] - 4s 3ms/step - loss: 0.0113 - accuracy: 0.9969 - val_loss: 0.1507 - val_accuracy: 0.9758\n",
            "Epoch 24/30\n",
            "1500/1500 [==============================] - 4s 3ms/step - loss: 0.0092 - accuracy: 0.9971 - val_loss: 0.1515 - val_accuracy: 0.9763\n",
            "Epoch 25/30\n",
            "1500/1500 [==============================] - 4s 3ms/step - loss: 0.0108 - accuracy: 0.9965 - val_loss: 0.1584 - val_accuracy: 0.9749\n",
            "Epoch 26/30\n",
            "1500/1500 [==============================] - 4s 3ms/step - loss: 0.0095 - accuracy: 0.9969 - val_loss: 0.1727 - val_accuracy: 0.9737\n",
            "Epoch 27/30\n",
            "1500/1500 [==============================] - 4s 3ms/step - loss: 0.0093 - accuracy: 0.9971 - val_loss: 0.1908 - val_accuracy: 0.9730\n",
            "Epoch 28/30\n",
            "1500/1500 [==============================] - 4s 3ms/step - loss: 0.0101 - accuracy: 0.9967 - val_loss: 0.1740 - val_accuracy: 0.9763\n",
            "Epoch 29/30\n",
            "1500/1500 [==============================] - 4s 3ms/step - loss: 0.0067 - accuracy: 0.9980 - val_loss: 0.1887 - val_accuracy: 0.9721\n",
            "Epoch 30/30\n",
            "1500/1500 [==============================] - 4s 3ms/step - loss: 0.0101 - accuracy: 0.9969 - val_loss: 0.1868 - val_accuracy: 0.9754\n"
          ]
        }
      ]
    },
    {
      "cell_type": "code",
      "source": [
        "## Printing the accuracy graph and loss graph\n",
        "plt.plot(history.history['accuracy'])\n",
        "plt.plot(history.history['val_accuracy'])\n",
        "plt.legend(['accuracy', 'val_accuracy'])\n",
        "plt.title('accuracy graph')\n",
        "plt.show()"
      ],
      "metadata": {
        "colab": {
          "base_uri": "https://localhost:8080/",
          "height": 281
        },
        "id": "2EViSYlaL1tP",
        "outputId": "124d0150-9f37-4090-82f1-e75fb532114c"
      },
      "execution_count": 13,
      "outputs": [
        {
          "output_type": "display_data",
          "data": {
            "text/plain": [
              "<Figure size 432x288 with 1 Axes>"
            ],
            "image/png": "[encoded data removed]"
          },
          "metadata": {
            "needs_background": "light"
          }
        }
      ]
    },
    {
      "cell_type": "code",
      "source": [
        "plt.plot(history.history['loss'])\n",
        "plt.plot(history.history['val_loss'])\n",
        "plt.legend(['loss', 'val_loss'])\n",
        "plt.title('loss graph')\n",
        "plt.show()"
      ],
      "metadata": {
        "colab": {
          "base_uri": "https://localhost:8080/",
          "height": 281
        },
        "id": "Im3ssdWfOwq0",
        "outputId": "60a29382-a63c-4631-da18-c22505b22483"
      },
      "execution_count": 14,
      "outputs": [
        {
          "output_type": "display_data",
          "data": {
            "text/plain": [
              "<Figure size 432x288 with 1 Axes>"
            ],
            "image/png": "[encoded data removed]"
          },
          "metadata": {
            "needs_background": "light"
          }
        }
      ]
    },
    {
      "cell_type": "code",
      "source": [
        "pred = model.predict(X_test)"
      ],
      "metadata": {
        "id": "j_SiuXx7OwmD"
      },
      "execution_count": 15,
      "outputs": []
    },
    {
      "cell_type": "code",
      "source": [
        "import numpy as np\n",
        "\n",
        "def get_index(pred):\n",
        "    ind = []\n",
        "    for p in pred:\n",
        "      pd = 0\n",
        "      indx = 0\n",
        "      for i, val in enumerate(p):\n",
        "          if val > pd:\n",
        "              pd = val\n",
        "              indx = i\n",
        "      ind.append(indx)\n",
        "    return np.array(ind)"
      ],
      "metadata": {
        "id": "ZjD4BdVeOwhl"
      },
      "execution_count": 16,
      "outputs": []
    },
    {
      "cell_type": "code",
      "source": [
        "from sklearn.metrics import accuracy_score, classification_report\n",
        "\n",
        "print(accuracy_score(get_index(pred), y_test))\n",
        "print(classification_report(get_index(pred), y_test))"
      ],
      "metadata": {
        "colab": {
          "base_uri": "https://localhost:8080/"
        },
        "id": "2vfk3231P2-Q",
        "outputId": "1a76a904-408e-4cc1-e7b4-1a597f99d2b8"
      },
      "execution_count": 17,
      "outputs": [
        {
          "output_type": "stream",
          "name": "stdout",
          "text": [
            "0.9764\n",
            "              precision    recall  f1-score   support\n",
            "\n",
            "           0       0.99      0.98      0.99       985\n",
            "           1       0.99      0.99      0.99      1133\n",
            "           2       0.97      0.98      0.98      1027\n",
            "           3       0.97      0.98      0.97       998\n",
            "           4       0.98      0.97      0.98       993\n",
            "           5       0.96      0.97      0.97       890\n",
            "           6       0.97      0.98      0.98       955\n",
            "           7       0.98      0.97      0.98      1041\n",
            "           8       0.96      0.96      0.96       974\n",
            "           9       0.97      0.98      0.97      1004\n",
            "\n",
            "    accuracy                           0.98     10000\n",
            "   macro avg       0.98      0.98      0.98     10000\n",
            "weighted avg       0.98      0.98      0.98     10000\n",
            "\n"
          ]
        }
      ]
    },
    {
      "cell_type": "markdown",
      "source": [
        "Trying CNN"
      ],
      "metadata": {
        "id": "kShxkCZvgSnJ"
      }
    },
    {
      "cell_type": "code",
      "source": [
        "x_train = X_train.reshape((X_train.shape[0], X_train.shape[1], X_train.shape[2], 1))\n",
        "x_test = X_test.reshape((X_test.shape[0], X_test.shape[1], X_test.shape[2], 1))"
      ],
      "metadata": {
        "id": "vFRQ_Ei1iHJr"
      },
      "execution_count": 80,
      "outputs": []
    },
    {
      "cell_type": "code",
      "source": [
        "x_train.shape"
      ],
      "metadata": {
        "colab": {
          "base_uri": "https://localhost:8080/"
        },
        "id": "rk3p1Ma7m8ni",
        "outputId": "d3932c54-486a-4f2b-a66b-6c011c711b33"
      },
      "execution_count": 82,
      "outputs": [
        {
          "output_type": "execute_result",
          "data": {
            "text/plain": [
              "(60000, 28, 28, 1)"
            ]
          },
          "metadata": {},
          "execution_count": 82
        }
      ]
    },
    {
      "cell_type": "code",
      "source": [
        "cnn = models.Sequential([\n",
        "                  layers.Conv2D(32, (3, 3), activation='relu', input_shape=(28, 28, 1)),\n",
        "                  layers.MaxPooling2D((2, 2)),\n",
        "                  layers.Conv2D(64, (3, 3), activation = 'relu'),\n",
        "                  layers.MaxPooling2D((2, 2)),\n",
        "                  layers.Flatten(),\n",
        "                  layers.Dense(64, activation = 'relu'),\n",
        "                  layers.Dense(10, activation = 'softmax')\n",
        "])"
      ],
      "metadata": {
        "id": "V5F52h9HQ2-z"
      },
      "execution_count": 105,
      "outputs": []
    },
    {
      "cell_type": "code",
      "source": [
        "cnn.summary()"
      ],
      "metadata": {
        "colab": {
          "base_uri": "https://localhost:8080/"
        },
        "id": "h5AdpwEqlLr9",
        "outputId": "8127b23c-f8bb-4f16-b917-feaa20489c70"
      },
      "execution_count": 97,
      "outputs": [
        {
          "output_type": "stream",
          "name": "stdout",
          "text": [
            "Model: \"sequential_11\"\n",
            "_________________________________________________________________\n",
            " Layer (type)                Output Shape              Param #   \n",
            "=================================================================\n",
            " conv2d_28 (Conv2D)          (None, 26, 26, 32)        320       \n",
            "                                                                 \n",
            " max_pooling2d_28 (MaxPoolin  (None, 13, 13, 32)       0         \n",
            " g2D)                                                            \n",
            "                                                                 \n",
            " conv2d_29 (Conv2D)          (None, 11, 11, 64)        18496     \n",
            "                                                                 \n",
            " max_pooling2d_29 (MaxPoolin  (None, 5, 5, 64)         0         \n",
            " g2D)                                                            \n",
            "                                                                 \n",
            " flatten_11 (Flatten)        (None, 1600)              0         \n",
            "                                                                 \n",
            " dense_30 (Dense)            (None, 64)                102464    \n",
            "                                                                 \n",
            " dense_31 (Dense)            (None, 10)                650       \n",
            "                                                                 \n",
            "=================================================================\n",
            "Total params: 121,930\n",
            "Trainable params: 121,930\n",
            "Non-trainable params: 0\n",
            "_________________________________________________________________\n"
          ]
        }
      ]
    },
    {
      "cell_type": "code",
      "source": [
        "from tensorflow.keras.losses import SparseCategoricalCrossentropy\n",
        "loss=SparseCategoricalCrossentropy(from_logits=True)"
      ],
      "metadata": {
        "id": "QMX1KbcDl2_K"
      },
      "execution_count": 101,
      "outputs": []
    },
    {
      "cell_type": "code",
      "source": [
        "cnn.compile(optimizer = 'adam', loss = loss, metrics =['accuracy'])"
      ],
      "metadata": {
        "id": "RzalRri-icJH"
      },
      "execution_count": 108,
      "outputs": []
    },
    {
      "cell_type": "code",
      "source": [
        "hist = cnn.fit(x_train, y_train, epochs = 10, batch_size = 32, validation_split = 0.2)"
      ],
      "metadata": {
        "colab": {
          "base_uri": "https://localhost:8080/"
        },
        "id": "CXRonru6icD7",
        "outputId": "828c47af-b22c-4ab5-fb27-0f5e42e862b7"
      },
      "execution_count": 110,
      "outputs": [
        {
          "output_type": "stream",
          "name": "stdout",
          "text": [
            "Epoch 1/10\n",
            "1500/1500 [==============================] - 6s 4ms/step - loss: 0.0536 - accuracy: 0.9833 - val_loss: 0.0573 - val_accuracy: 0.9839\n",
            "Epoch 2/10\n",
            "1500/1500 [==============================] - 7s 5ms/step - loss: 0.0358 - accuracy: 0.9883 - val_loss: 0.0499 - val_accuracy: 0.9852\n",
            "Epoch 3/10\n",
            "1500/1500 [==============================] - 5s 3ms/step - loss: 0.0276 - accuracy: 0.9914 - val_loss: 0.0403 - val_accuracy: 0.9893\n",
            "Epoch 4/10\n",
            "1500/1500 [==============================] - 5s 3ms/step - loss: 0.0187 - accuracy: 0.9941 - val_loss: 0.0417 - val_accuracy: 0.9885\n",
            "Epoch 5/10\n",
            "1500/1500 [==============================] - 5s 3ms/step - loss: 0.0144 - accuracy: 0.9954 - val_loss: 0.0387 - val_accuracy: 0.9898\n",
            "Epoch 6/10\n",
            "1500/1500 [==============================] - 6s 4ms/step - loss: 0.0131 - accuracy: 0.9953 - val_loss: 0.0562 - val_accuracy: 0.9864\n",
            "Epoch 7/10\n",
            "1500/1500 [==============================] - 5s 3ms/step - loss: 0.0099 - accuracy: 0.9969 - val_loss: 0.0472 - val_accuracy: 0.9888\n",
            "Epoch 8/10\n",
            "1500/1500 [==============================] - 6s 4ms/step - loss: 0.0082 - accuracy: 0.9973 - val_loss: 0.0412 - val_accuracy: 0.9913\n",
            "Epoch 9/10\n",
            "1500/1500 [==============================] - 6s 4ms/step - loss: 0.0082 - accuracy: 0.9971 - val_loss: 0.0474 - val_accuracy: 0.9902\n",
            "Epoch 10/10\n",
            "1500/1500 [==============================] - 5s 3ms/step - loss: 0.0058 - accuracy: 0.9982 - val_loss: 0.0464 - val_accuracy: 0.9910\n"
          ]
        }
      ]
    },
    {
      "cell_type": "code",
      "source": [
        "## Printing the accuracy graph and loss graph\n",
        "plt.plot(hist.history['accuracy'])\n",
        "plt.plot(hist.history['val_accuracy'])\n",
        "plt.legend(['accuracy', 'val_accuracy'])\n",
        "plt.title('accuracy graph')\n",
        "plt.show()"
      ],
      "metadata": {
        "colab": {
          "base_uri": "https://localhost:8080/",
          "height": 281
        },
        "id": "KXmuQmYtib_O",
        "outputId": "f48a67fc-26a5-4b4b-d343-0c7ce14cb4e4"
      },
      "execution_count": 112,
      "outputs": [
        {
          "output_type": "display_data",
          "data": {
            "text/plain": [
              "<Figure size 432x288 with 1 Axes>"
            ],
            "image/png": "[encoded data removed]"
          },
          "metadata": {
            "needs_background": "light"
          }
        }
      ]
    },
    {
      "cell_type": "code",
      "source": [
        "plt.plot(hist.history['loss'])\n",
        "plt.plot(hist.history['val_loss'])\n",
        "plt.legend(['loss', 'val_loss'])\n",
        "plt.title('loss graph')\n",
        "plt.show()"
      ],
      "metadata": {
        "colab": {
          "base_uri": "https://localhost:8080/",
          "height": 281
        },
        "id": "6mh4qHtqib6L",
        "outputId": "4efd1e49-febe-45d8-8e38-8e08944f5050"
      },
      "execution_count": 113,
      "outputs": [
        {
          "output_type": "display_data",
          "data": {
            "text/plain": [
              "<Figure size 432x288 with 1 Axes>"
            ],
            "image/png": "[encoded data removed]"
          },
          "metadata": {
            "needs_background": "light"
          }
        }
      ]
    },
    {
      "cell_type": "code",
      "source": [
        "from sklearn.metrics import accuracy_score, classification_report\n",
        "\n",
        "pred = cnn.predict(x_test)\n",
        "\n",
        "print(accuracy_score(get_index(pred), y_test))\n",
        "print(classification_report(get_index(pred), y_test))"
      ],
      "metadata": {
        "colab": {
          "base_uri": "https://localhost:8080/"
        },
        "id": "qzNSLKF7pbAU",
        "outputId": "0e66239e-d382-4ec3-9ad8-88f127510e2a"
      },
      "execution_count": 114,
      "outputs": [
        {
          "output_type": "stream",
          "name": "stdout",
          "text": [
            "0.9906\n",
            "              precision    recall  f1-score   support\n",
            "\n",
            "           0       0.99      0.99      0.99       978\n",
            "           1       0.99      0.99      0.99      1137\n",
            "           2       0.99      1.00      0.99      1022\n",
            "           3       0.99      0.99      0.99      1009\n",
            "           4       1.00      0.99      0.99       992\n",
            "           5       0.99      0.99      0.99       895\n",
            "           6       0.99      1.00      0.99       950\n",
            "           7       0.99      0.98      0.99      1042\n",
            "           8       0.99      0.99      0.99       974\n",
            "           9       0.99      0.99      0.99      1001\n",
            "\n",
            "    accuracy                           0.99     10000\n",
            "   macro avg       0.99      0.99      0.99     10000\n",
            "weighted avg       0.99      0.99      0.99     10000\n",
            "\n"
          ]
        }
      ]
    }
  ]
}