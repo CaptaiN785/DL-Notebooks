{
  "nbformat": 4,
  "nbformat_minor": 0,
  "metadata": {
    "colab": {
      "name": "main.ipynb",
      "provenance": [],
      "collapsed_sections": []
    },
    "kernelspec": {
      "name": "python3",
      "display_name": "Python 3"
    },
    "language_info": {
      "name": "python"
    },
    "accelerator": "GPU",
    "gpuClass": "standard"
  },
  "cells": [
    {
      "cell_type": "code",
      "execution_count": 1,
      "metadata": {
        "id": "L1gqpIY1HTIJ"
      },
      "outputs": [],
      "source": [
        "from tensorflow.keras.datasets import fashion_mnist\n",
        "from tensorflow.keras import layers, models\n",
        "from tensorflow import one_hot\n",
        "import numpy as np\n",
        "import matplotlib.pyplot as plt\n",
        "%matplotlib inline\n",
        "import cv2 as cv"
      ]
    },
    {
      "cell_type": "code",
      "source": [
        "(X_train, y_train), (X_test, y_test) = fashion_mnist.load_data()"
      ],
      "metadata": {
        "id": "o2HO80TuHgmf",
        "outputId": "88eb57f7-ea0c-4613-ceac-6d1aa9928717",
        "colab": {
          "base_uri": "https://localhost:8080/"
        }
      },
      "execution_count": 2,
      "outputs": [
        {
          "output_type": "stream",
          "name": "stdout",
          "text": [
            "Downloading data from https://storage.googleapis.com/tensorflow/tf-keras-datasets/train-labels-idx1-ubyte.gz\n",
            "32768/29515 [=================================] - 0s 0us/step\n",
            "40960/29515 [=========================================] - 0s 0us/step\n",
            "Downloading data from https://storage.googleapis.com/tensorflow/tf-keras-datasets/train-images-idx3-ubyte.gz\n",
            "26427392/26421880 [==============================] - 0s 0us/step\n",
            "26435584/26421880 [==============================] - 0s 0us/step\n",
            "Downloading data from https://storage.googleapis.com/tensorflow/tf-keras-datasets/t10k-labels-idx1-ubyte.gz\n",
            "16384/5148 [===============================================================================================] - 0s 0us/step\n",
            "Downloading data from https://storage.googleapis.com/tensorflow/tf-keras-datasets/t10k-images-idx3-ubyte.gz\n",
            "4423680/4422102 [==============================] - 0s 0us/step\n",
            "4431872/4422102 [==============================] - 0s 0us/step\n"
          ]
        }
      ]
    },
    {
      "cell_type": "code",
      "source": [
        "X_train.shape, y_train.shape, X_test.shape, y_test.shape"
      ],
      "metadata": {
        "colab": {
          "base_uri": "https://localhost:8080/"
        },
        "id": "S9sVpWL5JTKp",
        "outputId": "1f8218c3-4b3a-48bc-b770-ff3e835851e7"
      },
      "execution_count": 3,
      "outputs": [
        {
          "output_type": "execute_result",
          "data": {
            "text/plain": [
              "((60000, 28, 28), (60000,), (10000, 28, 28), (10000,))"
            ]
          },
          "metadata": {},
          "execution_count": 3
        }
      ]
    },
    {
      "cell_type": "code",
      "source": [
        "np.unique(y_train)"
      ],
      "metadata": {
        "colab": {
          "base_uri": "https://localhost:8080/"
        },
        "id": "6XAufH1sJT26",
        "outputId": "1cabde73-8775-4fa8-f81a-887d0f447dc2"
      },
      "execution_count": 4,
      "outputs": [
        {
          "output_type": "execute_result",
          "data": {
            "text/plain": [
              "array([0, 1, 2, 3, 4, 5, 6, 7, 8, 9], dtype=uint8)"
            ]
          },
          "metadata": {},
          "execution_count": 4
        }
      ]
    },
    {
      "cell_type": "code",
      "source": [
        "plt.figure(figsize=(12, 6))\n",
        "for i, image in enumerate(X_train[:5]):\n",
        "    plt.subplot(1, 5, i+1)\n",
        "    plt.imshow(image)\n",
        "    plt.xlabel(y_train[i])\n",
        "    plt.axis('off')\n",
        "plt.show()"
      ],
      "metadata": {
        "colab": {
          "base_uri": "https://localhost:8080/",
          "height": 146
        },
        "id": "irjqKGXqJqht",
        "outputId": "220b4fdd-c645-45eb-8a4c-81725e25df39"
      },
      "execution_count": 5,
      "outputs": [
        {
          "output_type": "display_data",
          "data": {
            "text/plain": [
              "<Figure size 864x432 with 5 Axes>"
            ],
            "image/png": "[encoded data removed]"
          },
          "metadata": {
            "needs_background": "light"
          }
        }
      ]
    },
    {
      "cell_type": "code",
      "source": [
        "## There are 10 category of image "
      ],
      "metadata": {
        "id": "vbisI6FKJ1Nz"
      },
      "execution_count": 6,
      "outputs": []
    },
    {
      "cell_type": "code",
      "source": [
        "## Before designing the model let's first convert into 1 chanel of image\n",
        "\n",
        "X_train = X_train.reshape((-1, X_train[0].shape[0], X_train[0].shape[1], 1))\n",
        "\n",
        "X_test = X_test.reshape((-1, X_test[0].shape[0], X_test[0].shape[1], 1))"
      ],
      "metadata": {
        "id": "G8nbFwfMJ1JZ"
      },
      "execution_count": 7,
      "outputs": []
    },
    {
      "cell_type": "code",
      "source": [
        "X_train.shape, X_test.shape"
      ],
      "metadata": {
        "colab": {
          "base_uri": "https://localhost:8080/"
        },
        "id": "OCOWZzRPJ1GK",
        "outputId": "e9b2e1ca-ebca-48cc-e1b3-a510df1528f3"
      },
      "execution_count": 8,
      "outputs": [
        {
          "output_type": "execute_result",
          "data": {
            "text/plain": [
              "((60000, 28, 28, 1), (10000, 28, 28, 1))"
            ]
          },
          "metadata": {},
          "execution_count": 8
        }
      ]
    },
    {
      "cell_type": "code",
      "source": [
        "y_train = one_hot(y_train, 10)\n",
        "y_test = one_hot(y_test, 10)"
      ],
      "metadata": {
        "id": "biwIl92kRSRJ"
      },
      "execution_count": 9,
      "outputs": []
    },
    {
      "cell_type": "code",
      "source": [
        "y_train.shape, y_test.shape"
      ],
      "metadata": {
        "colab": {
          "base_uri": "https://localhost:8080/"
        },
        "id": "jM1mxlxqSyi4",
        "outputId": "0c87bcb4-8e0b-42fc-c34a-01e37359a21f"
      },
      "execution_count": 10,
      "outputs": [
        {
          "output_type": "execute_result",
          "data": {
            "text/plain": [
              "(TensorShape([60000, 10]), TensorShape([10000, 10]))"
            ]
          },
          "metadata": {},
          "execution_count": 10
        }
      ]
    },
    {
      "cell_type": "code",
      "source": [
        "model = models.Sequential([\n",
        "    layers.Conv2D(64, (3, 3), input_shape=X_train[0].shape, activation = 'relu', padding='same'),\n",
        "    layers.Conv2D(128, (3, 3), activation = 'relu', padding = 'same'),\n",
        "    layers.Conv2D(128, (3, 3), activation = 'relu', padding = 'same'),\n",
        "    layers.MaxPooling2D((2, 2)),\n",
        "\n",
        "\n",
        "    layers.Conv2D(128, (3, 3), activation = 'relu', padding = 'same'),\n",
        "    layers.Conv2D(256, (3, 3), activation = 'relu', padding = 'same'),\n",
        "    layers.Conv2D(256, (3, 3), activation = 'relu', padding = 'same'),\n",
        "    layers.Dropout(0.3),\n",
        "    layers.MaxPooling2D((2, 2)),\n",
        "\n",
        "    layers.Conv2D(512, (3, 3), activation='relu', padding = 'same'),\n",
        "    layers.Conv2D(512, (3, 3), activation='relu', padding = 'same'),\n",
        "    layers.Conv2D(512, (3, 3), activation='relu', padding = 'same'),\n",
        "    layers.BatchNormalization(),\n",
        "    layers.Dropout(0.5),\n",
        "    layers.MaxPooling2D((2, 2)),\n",
        "\n",
        "    layers.Flatten(),\n",
        "    layers.Dense(512, activation = 'relu'),\n",
        "    layers.Dense(10, activation='softmax')\n",
        "])\n",
        "model.summary()"
      ],
      "metadata": {
        "colab": {
          "base_uri": "https://localhost:8080/"
        },
        "id": "9K6n8zzjJ1Ce",
        "outputId": "4ebcaf89-9ee4-4aa9-9bec-935e333f116d"
      },
      "execution_count": 21,
      "outputs": [
        {
          "output_type": "stream",
          "name": "stdout",
          "text": [
            "Model: \"sequential_4\"\n",
            "_________________________________________________________________\n",
            " Layer (type)                Output Shape              Param #   \n",
            "=================================================================\n",
            " conv2d_36 (Conv2D)          (None, 28, 28, 64)        640       \n",
            "                                                                 \n",
            " conv2d_37 (Conv2D)          (None, 28, 28, 128)       73856     \n",
            "                                                                 \n",
            " conv2d_38 (Conv2D)          (None, 28, 28, 128)       147584    \n",
            "                                                                 \n",
            " max_pooling2d_12 (MaxPoolin  (None, 14, 14, 128)      0         \n",
            " g2D)                                                            \n",
            "                                                                 \n",
            " conv2d_39 (Conv2D)          (None, 14, 14, 128)       147584    \n",
            "                                                                 \n",
            " conv2d_40 (Conv2D)          (None, 14, 14, 256)       295168    \n",
            "                                                                 \n",
            " conv2d_41 (Conv2D)          (None, 14, 14, 256)       590080    \n",
            "                                                                 \n",
            " dropout_12 (Dropout)        (None, 14, 14, 256)       0         \n",
            "                                                                 \n",
            " max_pooling2d_13 (MaxPoolin  (None, 7, 7, 256)        0         \n",
            " g2D)                                                            \n",
            "                                                                 \n",
            " conv2d_42 (Conv2D)          (None, 7, 7, 512)         1180160   \n",
            "                                                                 \n",
            " conv2d_43 (Conv2D)          (None, 7, 7, 512)         2359808   \n",
            "                                                                 \n",
            " conv2d_44 (Conv2D)          (None, 7, 7, 512)         2359808   \n",
            "                                                                 \n",
            " batch_normalization_4 (Batc  (None, 7, 7, 512)        2048      \n",
            " hNormalization)                                                 \n",
            "                                                                 \n",
            " dropout_13 (Dropout)        (None, 7, 7, 512)         0         \n",
            "                                                                 \n",
            " max_pooling2d_14 (MaxPoolin  (None, 3, 3, 512)        0         \n",
            " g2D)                                                            \n",
            "                                                                 \n",
            " flatten_4 (Flatten)         (None, 4608)              0         \n",
            "                                                                 \n",
            " dense_8 (Dense)             (None, 512)               2359808   \n",
            "                                                                 \n",
            " dense_9 (Dense)             (None, 10)                5130      \n",
            "                                                                 \n",
            "=================================================================\n",
            "Total params: 9,521,674\n",
            "Trainable params: 9,520,650\n",
            "Non-trainable params: 1,024\n",
            "_________________________________________________________________\n"
          ]
        }
      ]
    },
    {
      "cell_type": "code",
      "source": [
        "from tensorflow.keras.optimizers import Adam\n",
        "\n",
        "adam = Adam(learning_rate=0.0001, beta_1 = 0.95)\n",
        "\n",
        "model.compile(optimizer = adam, loss = 'categorical_crossentropy', metrics = ['accuracy'])\n",
        "\n",
        "## Fitting the data into model\n",
        "history = model.fit(X_train, y_train, batch_size=64, epochs=30, validation_split = 0.2)"
      ],
      "metadata": {
        "colab": {
          "base_uri": "https://localhost:8080/"
        },
        "id": "aGx01K2KQ8lV",
        "outputId": "94ef7abc-2802-414f-d4e8-0e967b8c69b6"
      },
      "execution_count": 22,
      "outputs": [
        {
          "output_type": "stream",
          "name": "stdout",
          "text": [
            "Epoch 1/30\n",
            "750/750 [==============================] - 37s 48ms/step - loss: 0.5993 - accuracy: 0.7879 - val_loss: 0.7596 - val_accuracy: 0.7280\n",
            "Epoch 2/30\n",
            "750/750 [==============================] - 36s 48ms/step - loss: 0.3488 - accuracy: 0.8729 - val_loss: 0.5441 - val_accuracy: 0.8173\n",
            "Epoch 3/30\n",
            "750/750 [==============================] - 36s 48ms/step - loss: 0.2835 - accuracy: 0.8969 - val_loss: 0.3551 - val_accuracy: 0.8746\n",
            "Epoch 4/30\n",
            "750/750 [==============================] - 36s 48ms/step - loss: 0.2431 - accuracy: 0.9111 - val_loss: 0.3936 - val_accuracy: 0.8687\n",
            "Epoch 5/30\n",
            "750/750 [==============================] - 36s 48ms/step - loss: 0.2144 - accuracy: 0.9224 - val_loss: 0.3393 - val_accuracy: 0.8916\n",
            "Epoch 6/30\n",
            "750/750 [==============================] - 36s 48ms/step - loss: 0.1899 - accuracy: 0.9296 - val_loss: 0.3123 - val_accuracy: 0.9028\n",
            "Epoch 7/30\n",
            "750/750 [==============================] - 36s 48ms/step - loss: 0.1732 - accuracy: 0.9366 - val_loss: 0.2628 - val_accuracy: 0.9159\n",
            "Epoch 8/30\n",
            "750/750 [==============================] - 36s 48ms/step - loss: 0.1540 - accuracy: 0.9430 - val_loss: 0.3204 - val_accuracy: 0.9061\n",
            "Epoch 9/30\n",
            "750/750 [==============================] - 36s 48ms/step - loss: 0.1326 - accuracy: 0.9509 - val_loss: 0.2890 - val_accuracy: 0.9143\n",
            "Epoch 10/30\n",
            "750/750 [==============================] - 36s 48ms/step - loss: 0.1178 - accuracy: 0.9563 - val_loss: 0.2815 - val_accuracy: 0.9178\n",
            "Epoch 11/30\n",
            "750/750 [==============================] - 36s 48ms/step - loss: 0.1047 - accuracy: 0.9614 - val_loss: 0.3161 - val_accuracy: 0.9158\n",
            "Epoch 12/30\n",
            "750/750 [==============================] - 36s 48ms/step - loss: 0.0918 - accuracy: 0.9655 - val_loss: 0.3022 - val_accuracy: 0.9189\n",
            "Epoch 13/30\n",
            "750/750 [==============================] - 36s 48ms/step - loss: 0.0789 - accuracy: 0.9705 - val_loss: 0.3303 - val_accuracy: 0.9261\n",
            "Epoch 14/30\n",
            "750/750 [==============================] - 36s 48ms/step - loss: 0.0636 - accuracy: 0.9765 - val_loss: 0.2911 - val_accuracy: 0.9223\n",
            "Epoch 15/30\n",
            "750/750 [==============================] - 36s 48ms/step - loss: 0.0556 - accuracy: 0.9796 - val_loss: 0.3431 - val_accuracy: 0.9202\n",
            "Epoch 16/30\n",
            "750/750 [==============================] - 36s 48ms/step - loss: 0.0499 - accuracy: 0.9813 - val_loss: 0.3656 - val_accuracy: 0.9233\n",
            "Epoch 17/30\n",
            "750/750 [==============================] - 36s 48ms/step - loss: 0.0469 - accuracy: 0.9827 - val_loss: 0.3561 - val_accuracy: 0.9220\n",
            "Epoch 18/30\n",
            "750/750 [==============================] - 36s 48ms/step - loss: 0.0406 - accuracy: 0.9852 - val_loss: 0.3372 - val_accuracy: 0.9272\n",
            "Epoch 19/30\n",
            "750/750 [==============================] - 36s 48ms/step - loss: 0.0431 - accuracy: 0.9844 - val_loss: 0.3493 - val_accuracy: 0.9255\n",
            "Epoch 20/30\n",
            "750/750 [==============================] - 36s 48ms/step - loss: 0.0336 - accuracy: 0.9880 - val_loss: 0.3875 - val_accuracy: 0.9252\n",
            "Epoch 21/30\n",
            "750/750 [==============================] - 36s 48ms/step - loss: 0.0310 - accuracy: 0.9890 - val_loss: 0.3476 - val_accuracy: 0.9333\n",
            "Epoch 22/30\n",
            "750/750 [==============================] - 36s 48ms/step - loss: 0.0287 - accuracy: 0.9898 - val_loss: 0.4103 - val_accuracy: 0.9267\n",
            "Epoch 23/30\n",
            "750/750 [==============================] - 36s 48ms/step - loss: 0.0330 - accuracy: 0.9877 - val_loss: 0.4407 - val_accuracy: 0.9258\n",
            "Epoch 24/30\n",
            "750/750 [==============================] - 36s 48ms/step - loss: 0.0246 - accuracy: 0.9911 - val_loss: 0.3951 - val_accuracy: 0.9333\n",
            "Epoch 25/30\n",
            "750/750 [==============================] - 36s 48ms/step - loss: 0.0293 - accuracy: 0.9902 - val_loss: 0.4373 - val_accuracy: 0.9293\n",
            "Epoch 26/30\n",
            "750/750 [==============================] - 36s 48ms/step - loss: 0.0242 - accuracy: 0.9912 - val_loss: 0.4340 - val_accuracy: 0.9295\n",
            "Epoch 27/30\n",
            "750/750 [==============================] - 36s 48ms/step - loss: 0.0268 - accuracy: 0.9910 - val_loss: 0.4431 - val_accuracy: 0.9277\n",
            "Epoch 28/30\n",
            "750/750 [==============================] - 36s 48ms/step - loss: 0.0178 - accuracy: 0.9935 - val_loss: 0.4567 - val_accuracy: 0.9305\n",
            "Epoch 29/30\n",
            "750/750 [==============================] - 36s 48ms/step - loss: 0.0227 - accuracy: 0.9920 - val_loss: 0.5114 - val_accuracy: 0.9253\n",
            "Epoch 30/30\n",
            "750/750 [==============================] - 36s 48ms/step - loss: 0.0187 - accuracy: 0.9931 - val_loss: 0.4396 - val_accuracy: 0.9311\n"
          ]
        }
      ]
    },
    {
      "cell_type": "code",
      "source": [
        "plt.plot(history.history['accuracy'])\n",
        "plt.plot(history.history['val_accuracy'])\n",
        "plt.legend(['accuracy', 'val_accuracy'])\n",
        "plt.title(\"Accuracy graph\")\n",
        "plt.show()"
      ],
      "metadata": {
        "id": "Zd-oaqRnfIwu",
        "outputId": "c009d22b-f744-4dc2-fd8e-acdaa8aad421",
        "colab": {
          "base_uri": "https://localhost:8080/",
          "height": 281
        }
      },
      "execution_count": 23,
      "outputs": [
        {
          "output_type": "display_data",
          "data": {
            "text/plain": [
              "<Figure size 432x288 with 1 Axes>"
            ],
            "image/png": "[encoded data removed]"
          },
          "metadata": {
            "needs_background": "light"
          }
        }
      ]
    },
    {
      "cell_type": "code",
      "source": [
        "plt.plot(history.history['loss'])\n",
        "plt.plot(history.history['val_loss'])\n",
        "plt.legend(['loss', 'val_loss'])\n",
        "plt.title(\"Loss graph\")\n",
        "plt.show()"
      ],
      "metadata": {
        "id": "z2mmU5u6fXF_",
        "outputId": "ca0f72ed-0185-4dce-e5e7-8fb12686354c",
        "colab": {
          "base_uri": "https://localhost:8080/",
          "height": 281
        }
      },
      "execution_count": 24,
      "outputs": [
        {
          "output_type": "display_data",
          "data": {
            "text/plain": [
              "<Figure size 432x288 with 1 Axes>"
            ],
            "image/png": "[encoded data removed]"
          },
          "metadata": {
            "needs_background": "light"
          }
        }
      ]
    },
    {
      "cell_type": "code",
      "source": [
        ""
      ],
      "metadata": {
        "id": "-8J9fyvmfdlH"
      },
      "execution_count": null,
      "outputs": []
    }
  ]
}