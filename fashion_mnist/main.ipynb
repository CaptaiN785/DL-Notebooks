{
  "nbformat": 4,
  "nbformat_minor": 0,
  "metadata": {
    "colab": {
      "name": "main.ipynb",
      "provenance": [],
      "collapsed_sections": [],
      "authorship_tag": "ABX9TyPZhCNJ23tDqaPnQCP32SOx",
      "include_colab_link": true
    },
    "kernelspec": {
      "name": "python3",
      "display_name": "Python 3"
    },
    "language_info": {
      "name": "python"
    },
    "accelerator": "GPU",
    "gpuClass": "standard"
  },
  "cells": [
    {
      "cell_type": "markdown",
      "metadata": {
        "id": "view-in-github",
        "colab_type": "text"
      },
      "source": [
        "<a href=\"https://colab.research.google.com/github/CaptaiN785/DL-Notebooks/blob/main/fashion_mnist/main.ipynb\" target=\"_parent\"><img src=\"https://colab.research.google.com/assets/colab-badge.svg\" alt=\"Open In Colab\"/></a>"
      ]
    },
    {
      "cell_type": "code",
      "execution_count": 41,
      "metadata": {
        "id": "L1gqpIY1HTIJ"
      },
      "outputs": [],
      "source": [
        "from tensorflow.keras.datasets import fashion_mnist\n",
        "from tensorflow.keras import layers, models\n",
        "from tensorflow import one_hot\n",
        "import numpy as np\n",
        "import matplotlib.pyplot as plt\n",
        "%matplotlib inline\n",
        "import cv2 as cv"
      ]
    },
    {
      "cell_type": "code",
      "source": [
        "(X_train, y_train), (X_test, y_test) = fashion_mnist.load_data()"
      ],
      "metadata": {
        "id": "o2HO80TuHgmf"
      },
      "execution_count": 7,
      "outputs": []
    },
    {
      "cell_type": "code",
      "source": [
        "X_train.shape, y_train.shape, X_test.shape, y_test.shape"
      ],
      "metadata": {
        "colab": {
          "base_uri": "https://localhost:8080/"
        },
        "id": "S9sVpWL5JTKp",
        "outputId": "db5789eb-9865-45a2-b23e-4ba30a136085"
      },
      "execution_count": 9,
      "outputs": [
        {
          "output_type": "execute_result",
          "data": {
            "text/plain": [
              "((60000, 28, 28), (60000,), (10000, 28, 28), (10000,))"
            ]
          },
          "metadata": {},
          "execution_count": 9
        }
      ]
    },
    {
      "cell_type": "code",
      "source": [
        "np.unique(y_train)"
      ],
      "metadata": {
        "colab": {
          "base_uri": "https://localhost:8080/"
        },
        "id": "6XAufH1sJT26",
        "outputId": "b2af9133-ae3f-4a86-93d3-0c29657dd2bb"
      },
      "execution_count": 13,
      "outputs": [
        {
          "output_type": "execute_result",
          "data": {
            "text/plain": [
              "array([0, 1, 2, 3, 4, 5, 6, 7, 8, 9], dtype=uint8)"
            ]
          },
          "metadata": {},
          "execution_count": 13
        }
      ]
    },
    {
      "cell_type": "code",
      "source": [
        "plt.figure(figsize=(12, 6))\n",
        "for i, image in enumerate(X_train[:5]):\n",
        "    plt.subplot(1, 5, i+1)\n",
        "    plt.imshow(image)\n",
        "    plt.xlabel(y_train[i])\n",
        "    plt.axis('off')\n",
        "plt.show()"
      ],
      "metadata": {
        "colab": {
          "base_uri": "https://localhost:8080/",
          "height": 146
        },
        "id": "irjqKGXqJqht",
        "outputId": "6b9a09f8-3e17-43d0-c510-d542ed7d6ca7"
      },
      "execution_count": 22,
      "outputs": [
        {
          "output_type": "display_data",
          "data": {
            "text/plain": [
              "<Figure size 864x432 with 5 Axes>"
            ],
            "image/png": "[encoded data removed]"
          },
          "metadata": {
            "needs_background": "light"
          }
        }
      ]
    },
    {
      "cell_type": "code",
      "source": [
        "## There are 10 category of image "
      ],
      "metadata": {
        "id": "vbisI6FKJ1Nz"
      },
      "execution_count": 23,
      "outputs": []
    },
    {
      "cell_type": "code",
      "source": [
        "## Before designing the model let's first convert into 1 chanel of image\n",
        "\n",
        "X_train = X_train.reshape((-1, X_train[0].shape[0], X_train[0].shape[1], 1))\n",
        "\n",
        "X_test = X_test.reshape((-1, X_test[0].shape[0], X_test[0].shape[1], 1))"
      ],
      "metadata": {
        "id": "G8nbFwfMJ1JZ"
      },
      "execution_count": 27,
      "outputs": []
    },
    {
      "cell_type": "code",
      "source": [
        "X_train.shape, X_test.shape"
      ],
      "metadata": {
        "colab": {
          "base_uri": "https://localhost:8080/"
        },
        "id": "OCOWZzRPJ1GK",
        "outputId": "7a314c86-447c-4f74-ab73-dc46924dbf9d"
      },
      "execution_count": 28,
      "outputs": [
        {
          "output_type": "execute_result",
          "data": {
            "text/plain": [
              "((60000, 28, 28, 1), (10000, 28, 28, 1))"
            ]
          },
          "metadata": {},
          "execution_count": 28
        }
      ]
    },
    {
      "cell_type": "code",
      "source": [
        "y_train = one_hot(y_train, 10)\n",
        "y_test = one_hot(y_test, 10)"
      ],
      "metadata": {
        "id": "biwIl92kRSRJ"
      },
      "execution_count": 47,
      "outputs": []
    },
    {
      "cell_type": "code",
      "source": [
        "y_train.shape, y_test.shape"
      ],
      "metadata": {
        "colab": {
          "base_uri": "https://localhost:8080/"
        },
        "id": "jM1mxlxqSyi4",
        "outputId": "cc1a7ede-ba47-48cd-be05-af3b80368ba1"
      },
      "execution_count": 51,
      "outputs": [
        {
          "output_type": "execute_result",
          "data": {
            "text/plain": [
              "(TensorShape([60000, 10]), TensorShape([10000, 10]))"
            ]
          },
          "metadata": {},
          "execution_count": 51
        }
      ]
    },
    {
      "cell_type": "code",
      "source": [
        "model = models.Sequential([\n",
        "    layers.Conv2D(64, (3, 3), input_shape=X_train[0].shape, activation = 'relu', padding='same'),\n",
        "    layers.Conv2D(128, (3, 3), activation = 'relu', padding = 'same'),\n",
        "    layers.Conv2D(128, (3, 3), activation = 'relu', padding = 'same'),\n",
        "    layers.Dropout(0.2),\n",
        "    layers.MaxPooling2D((2, 2)),\n",
        "\n",
        "\n",
        "    layers.Conv2D(128, (3, 3), activation = 'relu', padding = 'same'),\n",
        "    layers.Conv2D(256, (3, 3), activation = 'relu', padding = 'same'),\n",
        "    layers.Conv2D(256, (3, 3), activation = 'relu', padding = 'same'),\n",
        "    layers.Dropout(0.3),\n",
        "    layers.MaxPooling2D((2, 2)),\n",
        "\n",
        "    layers.Conv2D(512, (3, 3), activation='relu', padding = 'same'),\n",
        "    layers.Conv2D(512, (3, 3), activation='relu', padding = 'same'),\n",
        "    layers.Conv2D(512, (3, 3), activation='relu', padding = 'same'),\n",
        "    layers.Dropout(0.3),\n",
        "    layers.MaxPooling2D((2, 2)),\n",
        "\n",
        "    layers.Flatten(),\n",
        "    layers.Dense(512, activation = 'relu'),\n",
        "    layers.Dense(10, activation='softmax')\n",
        "])\n",
        "model.summary()"
      ],
      "metadata": {
        "colab": {
          "base_uri": "https://localhost:8080/"
        },
        "id": "9K6n8zzjJ1Ce",
        "outputId": "c7ae4903-0dbb-4813-b678-58ec374241dc"
      },
      "execution_count": 71,
      "outputs": [
        {
          "output_type": "stream",
          "name": "stdout",
          "text": [
            "Model: \"sequential_10\"\n",
            "_________________________________________________________________\n",
            " Layer (type)                Output Shape              Param #   \n",
            "=================================================================\n",
            " conv2d_42 (Conv2D)          (None, 28, 28, 64)        640       \n",
            "                                                                 \n",
            " conv2d_43 (Conv2D)          (None, 28, 28, 128)       73856     \n",
            "                                                                 \n",
            " conv2d_44 (Conv2D)          (None, 28, 28, 128)       147584    \n",
            "                                                                 \n",
            " dropout_16 (Dropout)        (None, 28, 28, 128)       0         \n",
            "                                                                 \n",
            " max_pooling2d_30 (MaxPoolin  (None, 14, 14, 128)      0         \n",
            " g2D)                                                            \n",
            "                                                                 \n",
            " conv2d_45 (Conv2D)          (None, 14, 14, 128)       147584    \n",
            "                                                                 \n",
            " conv2d_46 (Conv2D)          (None, 14, 14, 256)       295168    \n",
            "                                                                 \n",
            " conv2d_47 (Conv2D)          (None, 14, 14, 256)       590080    \n",
            "                                                                 \n",
            " dropout_17 (Dropout)        (None, 14, 14, 256)       0         \n",
            "                                                                 \n",
            " max_pooling2d_31 (MaxPoolin  (None, 7, 7, 256)        0         \n",
            " g2D)                                                            \n",
            "                                                                 \n",
            " conv2d_48 (Conv2D)          (None, 7, 7, 512)         1180160   \n",
            "                                                                 \n",
            " conv2d_49 (Conv2D)          (None, 7, 7, 512)         2359808   \n",
            "                                                                 \n",
            " conv2d_50 (Conv2D)          (None, 7, 7, 512)         2359808   \n",
            "                                                                 \n",
            " dropout_18 (Dropout)        (None, 7, 7, 512)         0         \n",
            "                                                                 \n",
            " max_pooling2d_32 (MaxPoolin  (None, 3, 3, 512)        0         \n",
            " g2D)                                                            \n",
            "                                                                 \n",
            " flatten_10 (Flatten)        (None, 4608)              0         \n",
            "                                                                 \n",
            " dense_20 (Dense)            (None, 512)               2359808   \n",
            "                                                                 \n",
            " dense_21 (Dense)            (None, 10)                5130      \n",
            "                                                                 \n",
            "=================================================================\n",
            "Total params: 9,519,626\n",
            "Trainable params: 9,519,626\n",
            "Non-trainable params: 0\n",
            "_________________________________________________________________\n"
          ]
        }
      ]
    },
    {
      "cell_type": "code",
      "source": [
        "from tensorflow.keras.optimizers import Adam\n",
        "\n",
        "adam = Adam(learning_rate=0.0001, beta_1 = 0.95)\n",
        "\n",
        "model.compile(optimizer = adam, loss = 'categorical_crossentropy', metrics = ['accuracy'])\n",
        "\n",
        "## Fitting the data into model\n",
        "history = model.fit(X_train, y_train, batch_size=64, epochs=30, validation_split = 0.2)"
      ],
      "metadata": {
        "colab": {
          "base_uri": "https://localhost:8080/"
        },
        "id": "aGx01K2KQ8lV",
        "outputId": "84f27016-e4a1-4153-ef39-80c04fb1e070"
      },
      "execution_count": null,
      "outputs": [
        {
          "output_type": "stream",
          "name": "stdout",
          "text": [
            "Epoch 1/30\n",
            "750/750 [==============================] - 168s 50ms/step - loss: 0.5831 - accuracy: 0.7990 - val_loss: 0.4013 - val_accuracy: 0.8756\n",
            "Epoch 2/30\n",
            "750/750 [==============================] - 41s 55ms/step - loss: 0.3260 - accuracy: 0.8806 - val_loss: 0.3630 - val_accuracy: 0.9003\n",
            "Epoch 3/30\n",
            "750/750 [==============================] - 39s 53ms/step - loss: 0.2677 - accuracy: 0.9029 - val_loss: 0.2708 - val_accuracy: 0.9133\n",
            "Epoch 4/30\n",
            "750/750 [==============================] - 39s 52ms/step - loss: 0.2337 - accuracy: 0.9140 - val_loss: 0.2830 - val_accuracy: 0.9051\n",
            "Epoch 5/30\n",
            "750/750 [==============================] - 39s 52ms/step - loss: 0.2040 - accuracy: 0.9262 - val_loss: 0.2880 - val_accuracy: 0.9096\n",
            "Epoch 6/30\n",
            "750/750 [==============================] - 40s 53ms/step - loss: 0.1826 - accuracy: 0.9356 - val_loss: 0.2409 - val_accuracy: 0.9212\n",
            "Epoch 7/30\n",
            "750/750 [==============================] - 41s 55ms/step - loss: 0.1625 - accuracy: 0.9403 - val_loss: 0.2194 - val_accuracy: 0.9281\n",
            "Epoch 8/30\n",
            "750/750 [==============================] - 39s 52ms/step - loss: 0.1461 - accuracy: 0.9449 - val_loss: 0.2125 - val_accuracy: 0.9271\n",
            "Epoch 9/30\n",
            "750/750 [==============================] - 41s 55ms/step - loss: 0.1258 - accuracy: 0.9533 - val_loss: 0.2059 - val_accuracy: 0.9257\n",
            "Epoch 10/30\n",
            "750/750 [==============================] - 41s 55ms/step - loss: 0.1137 - accuracy: 0.9584 - val_loss: 0.1872 - val_accuracy: 0.9341\n",
            "Epoch 11/30\n",
            "750/750 [==============================] - 40s 53ms/step - loss: 0.0974 - accuracy: 0.9636 - val_loss: 0.1842 - val_accuracy: 0.9344\n",
            "Epoch 12/30\n",
            "750/750 [==============================] - 39s 52ms/step - loss: 0.0810 - accuracy: 0.9695 - val_loss: 0.1980 - val_accuracy: 0.9292\n",
            "Epoch 13/30\n",
            "750/750 [==============================] - 41s 55ms/step - loss: 0.0687 - accuracy: 0.9749 - val_loss: 0.2103 - val_accuracy: 0.9277\n",
            "Epoch 14/30\n",
            "750/750 [==============================] - 41s 55ms/step - loss: 0.0600 - accuracy: 0.9778 - val_loss: 0.2040 - val_accuracy: 0.9296\n",
            "Epoch 15/30\n",
            "750/750 [==============================] - 39s 52ms/step - loss: 0.0531 - accuracy: 0.9801 - val_loss: 0.2071 - val_accuracy: 0.9328\n",
            "Epoch 16/30\n",
            "750/750 [==============================] - 39s 52ms/step - loss: 0.0447 - accuracy: 0.9831 - val_loss: 0.2048 - val_accuracy: 0.9317\n",
            "Epoch 17/30\n",
            "750/750 [==============================] - 39s 52ms/step - loss: 0.0398 - accuracy: 0.9852 - val_loss: 0.2094 - val_accuracy: 0.9347\n",
            "Epoch 18/30\n",
            "750/750 [==============================] - 41s 55ms/step - loss: 0.0356 - accuracy: 0.9870 - val_loss: 0.2335 - val_accuracy: 0.9292\n",
            "Epoch 19/30\n",
            "750/750 [==============================] - 41s 55ms/step - loss: 0.0327 - accuracy: 0.9880 - val_loss: 0.2408 - val_accuracy: 0.9265\n",
            "Epoch 20/30\n",
            "750/750 [==============================] - 41s 55ms/step - loss: 0.0299 - accuracy: 0.9893 - val_loss: 0.2214 - val_accuracy: 0.9360\n",
            "Epoch 21/30\n",
            "110/750 [===>..........................] - ETA: 30s - loss: 0.0294 - accuracy: 0.9911"
          ]
        }
      ]
    },
    {
      "cell_type": "code",
      "source": [
        ""
      ],
      "metadata": {
        "id": "h3evRbofRMHu"
      },
      "execution_count": null,
      "outputs": []
    }
  ]
}