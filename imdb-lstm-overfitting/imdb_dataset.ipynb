{
  "nbformat": 4,
  "nbformat_minor": 0,
  "metadata": {
    "colab": {
      "name": "imdb_dataset.ipynb",
      "provenance": [],
      "collapsed_sections": []
    },
    "kernelspec": {
      "name": "python3",
      "display_name": "Python 3"
    },
    "language_info": {
      "name": "python"
    },
    "accelerator": "GPU",
    "gpuClass": "standard"
  },
  "cells": [
    {
      "cell_type": "code",
      "execution_count": 1,
      "metadata": {
        "id": "ysxfOS9zn5Nb"
      },
      "outputs": [],
      "source": [
        "from tensorflow.keras.datasets import imdb"
      ]
    },
    {
      "cell_type": "code",
      "source": [
        "(x_train, y_train), (x_test, y_test) = imdb.load_data()"
      ],
      "metadata": {
        "colab": {
          "base_uri": "https://localhost:8080/"
        },
        "id": "up62Bzz5oN8y",
        "outputId": "5fdf0dc9-b6f5-4a8c-fdc3-05de2ffd719b"
      },
      "execution_count": 2,
      "outputs": [
        {
          "output_type": "stream",
          "name": "stdout",
          "text": [
            "Downloading data from https://storage.googleapis.com/tensorflow/tf-keras-datasets/imdb.npz\n",
            "17465344/17464789 [==============================] - 0s 0us/step\n",
            "17473536/17464789 [==============================] - 0s 0us/step\n"
          ]
        }
      ]
    },
    {
      "cell_type": "code",
      "source": [
        "x_train.shape, y_train.shape, x_test.shape, y_test.shape"
      ],
      "metadata": {
        "colab": {
          "base_uri": "https://localhost:8080/"
        },
        "id": "9wGifdKOoNwZ",
        "outputId": "e25b2e4c-8f4f-4669-f38b-e83aedab9531"
      },
      "execution_count": 3,
      "outputs": [
        {
          "output_type": "execute_result",
          "data": {
            "text/plain": [
              "((25000,), (25000,), (25000,), (25000,))"
            ]
          },
          "metadata": {},
          "execution_count": 3
        }
      ]
    },
    {
      "cell_type": "code",
      "source": [
        "len(x_train[0]), len(x_train[2])"
      ],
      "metadata": {
        "colab": {
          "base_uri": "https://localhost:8080/"
        },
        "id": "eLaNUlcOoNj4",
        "outputId": "45feb821-0a3a-4336-8fa9-29f4625938e0"
      },
      "execution_count": 4,
      "outputs": [
        {
          "output_type": "execute_result",
          "data": {
            "text/plain": [
              "(218, 141)"
            ]
          },
          "metadata": {},
          "execution_count": 4
        }
      ]
    },
    {
      "cell_type": "code",
      "source": [
        "## Here words are only tokenizer\n",
        "## So calculating the total words\n",
        "\n",
        "word_list = []\n",
        "for sentence in x_train:\n",
        "    word_list += sentence\n",
        "\n",
        "words = set(word_list)\n",
        "vocab_size = len(words)"
      ],
      "metadata": {
        "id": "jEtzzSUvpTiP"
      },
      "execution_count": 5,
      "outputs": []
    },
    {
      "cell_type": "code",
      "source": [
        "## Now finding maximum size of sentence in review\n",
        "\n",
        "max_size = max([len(sentence) for sentence in x_train])\n",
        "print(max_size)"
      ],
      "metadata": {
        "colab": {
          "base_uri": "https://localhost:8080/"
        },
        "id": "8xgEkDKJoNXU",
        "outputId": "16309b3e-4381-4681-9a40-d38237f46884"
      },
      "execution_count": 6,
      "outputs": [
        {
          "output_type": "stream",
          "name": "stdout",
          "text": [
            "2494\n"
          ]
        }
      ]
    },
    {
      "cell_type": "code",
      "source": [
        "# Padding the sentences\n",
        "from tensorflow.keras.preprocessing.sequence import pad_sequences\n",
        "\n",
        "def padd(data):\n",
        "    return pad_sequences(data, padding='post', truncating='post', maxlen=max_size)\n",
        "\n",
        "x_train_pad = padd(x_train)\n",
        "x_test_pad = padd(x_test)"
      ],
      "metadata": {
        "id": "4d8qxifVsI5Q"
      },
      "execution_count": 7,
      "outputs": []
    },
    {
      "cell_type": "code",
      "source": [
        "x_train_pad.shape, x_test_pad.shape"
      ],
      "metadata": {
        "colab": {
          "base_uri": "https://localhost:8080/"
        },
        "id": "SUMO86LwsInK",
        "outputId": "7ccad101-b013-439d-a8b1-0c3b9a11632c"
      },
      "execution_count": 8,
      "outputs": [
        {
          "output_type": "execute_result",
          "data": {
            "text/plain": [
              "((25000, 2494), (25000, 2494))"
            ]
          },
          "metadata": {},
          "execution_count": 8
        }
      ]
    },
    {
      "cell_type": "code",
      "source": [
        "import numpy as np\n",
        "\n",
        "## Checking no of category\n",
        "np.unique(y_train)"
      ],
      "metadata": {
        "colab": {
          "base_uri": "https://localhost:8080/"
        },
        "id": "qWsxdzHwsIPP",
        "outputId": "cc400628-3eeb-47e7-bbef-82b56107cf12"
      },
      "execution_count": 9,
      "outputs": [
        {
          "output_type": "execute_result",
          "data": {
            "text/plain": [
              "array([0, 1])"
            ]
          },
          "metadata": {},
          "execution_count": 9
        }
      ]
    },
    {
      "cell_type": "code",
      "source": [
        "## Now creating LSTM model\n",
        "from tensorflow.keras import layers, models\n",
        "\n",
        "model = models.Sequential([\n",
        "                           layers.Embedding(vocab_size, output_dim = 16, input_length=max_size),\n",
        "                           layers.Bidirectional(layers.LSTM(128)),\n",
        "                           layers.Dropout(0.3),\n",
        "                           layers.Dense(512, activation = 'relu'),\n",
        "                           layers.Dense(1, activation = 'sigmoid')\n",
        "])\n",
        "\n",
        "model.summary()\n"
      ],
      "metadata": {
        "colab": {
          "base_uri": "https://localhost:8080/"
        },
        "id": "kMDqJt2xruVx",
        "outputId": "fce953f7-9140-4936-de97-007f62232b59"
      },
      "execution_count": 10,
      "outputs": [
        {
          "output_type": "stream",
          "name": "stdout",
          "text": [
            "Model: \"sequential\"\n",
            "_________________________________________________________________\n",
            " Layer (type)                Output Shape              Param #   \n",
            "=================================================================\n",
            " embedding (Embedding)       (None, 2494, 16)          1417360   \n",
            "                                                                 \n",
            " bidirectional (Bidirectiona  (None, 256)              148480    \n",
            " l)                                                              \n",
            "                                                                 \n",
            " dropout (Dropout)           (None, 256)               0         \n",
            "                                                                 \n",
            " dense (Dense)               (None, 512)               131584    \n",
            "                                                                 \n",
            " dense_1 (Dense)             (None, 1)                 513       \n",
            "                                                                 \n",
            "=================================================================\n",
            "Total params: 1,697,937\n",
            "Trainable params: 1,697,937\n",
            "Non-trainable params: 0\n",
            "_________________________________________________________________\n"
          ]
        }
      ]
    },
    {
      "cell_type": "code",
      "source": [
        "model.compile(optimizer ='adam', loss = 'binary_crossentropy', metrics = ['accuracy'])"
      ],
      "metadata": {
        "id": "TYKRr04wruOG"
      },
      "execution_count": 11,
      "outputs": []
    },
    {
      "cell_type": "code",
      "source": [
        "history = model.fit(x_train_pad, y_train, epochs = 30, batch_size = 64, validation_data = (x_test_pad, y_test))"
      ],
      "metadata": {
        "colab": {
          "base_uri": "https://localhost:8080/"
        },
        "id": "hj-3JilXruHg",
        "outputId": "4609b227-3818-4ca7-b9ac-e900a922b38f"
      },
      "execution_count": 12,
      "outputs": [
        {
          "output_type": "stream",
          "name": "stdout",
          "text": [
            "Epoch 1/30\n",
            "391/391 [==============================] - 119s 283ms/step - loss: 0.5451 - accuracy: 0.7045 - val_loss: 0.3738 - val_accuracy: 0.8602\n",
            "Epoch 2/30\n",
            "391/391 [==============================] - 110s 282ms/step - loss: 0.2509 - accuracy: 0.9070 - val_loss: 0.4312 - val_accuracy: 0.8034\n",
            "Epoch 3/30\n",
            "391/391 [==============================] - 112s 286ms/step - loss: 0.1835 - accuracy: 0.9335 - val_loss: 0.4135 - val_accuracy: 0.8513\n",
            "Epoch 4/30\n",
            "391/391 [==============================] - 112s 287ms/step - loss: 0.0891 - accuracy: 0.9716 - val_loss: 0.4714 - val_accuracy: 0.8267\n",
            "Epoch 5/30\n",
            "391/391 [==============================] - 112s 285ms/step - loss: 0.0586 - accuracy: 0.9819 - val_loss: 0.5464 - val_accuracy: 0.7723\n",
            "Epoch 6/30\n",
            "391/391 [==============================] - 110s 283ms/step - loss: 0.0433 - accuracy: 0.9870 - val_loss: 0.6483 - val_accuracy: 0.7680\n",
            "Epoch 7/30\n",
            "391/391 [==============================] - 110s 282ms/step - loss: 0.0383 - accuracy: 0.9880 - val_loss: 0.8083 - val_accuracy: 0.8242\n",
            "Epoch 8/30\n",
            "391/391 [==============================] - 111s 285ms/step - loss: 0.0238 - accuracy: 0.9930 - val_loss: 0.9108 - val_accuracy: 0.8292\n",
            "Epoch 9/30\n",
            "391/391 [==============================] - 111s 285ms/step - loss: 0.0491 - accuracy: 0.9847 - val_loss: 0.8057 - val_accuracy: 0.8218\n",
            "Epoch 10/30\n",
            "391/391 [==============================] - 110s 282ms/step - loss: 0.0281 - accuracy: 0.9910 - val_loss: 1.0679 - val_accuracy: 0.8252\n",
            "Epoch 11/30\n",
            "391/391 [==============================] - 111s 283ms/step - loss: 0.0122 - accuracy: 0.9970 - val_loss: 0.9416 - val_accuracy: 0.8138\n",
            "Epoch 12/30\n",
            "391/391 [==============================] - 110s 283ms/step - loss: 0.0403 - accuracy: 0.9861 - val_loss: 1.0492 - val_accuracy: 0.7810\n",
            "Epoch 13/30\n",
            "391/391 [==============================] - 111s 285ms/step - loss: 0.0437 - accuracy: 0.9870 - val_loss: 0.9331 - val_accuracy: 0.8200\n",
            "Epoch 14/30\n",
            "391/391 [==============================] - 111s 283ms/step - loss: 0.0173 - accuracy: 0.9950 - val_loss: 1.1034 - val_accuracy: 0.8254\n",
            "Epoch 15/30\n",
            "391/391 [==============================] - 114s 293ms/step - loss: 0.0119 - accuracy: 0.9961 - val_loss: 1.1595 - val_accuracy: 0.8156\n",
            "Epoch 16/30\n",
            "391/391 [==============================] - 113s 289ms/step - loss: 0.0270 - accuracy: 0.9916 - val_loss: 0.9644 - val_accuracy: 0.8078\n",
            "Epoch 17/30\n",
            "391/391 [==============================] - 114s 292ms/step - loss: 0.0081 - accuracy: 0.9978 - val_loss: 1.1244 - val_accuracy: 0.7750\n",
            "Epoch 18/30\n",
            "391/391 [==============================] - 116s 296ms/step - loss: 0.0082 - accuracy: 0.9974 - val_loss: 1.1689 - val_accuracy: 0.8013\n",
            "Epoch 19/30\n",
            "391/391 [==============================] - 124s 318ms/step - loss: 0.0175 - accuracy: 0.9949 - val_loss: 1.2529 - val_accuracy: 0.8148\n",
            "Epoch 20/30\n",
            "391/391 [==============================] - 122s 312ms/step - loss: 0.0068 - accuracy: 0.9981 - val_loss: 1.1481 - val_accuracy: 0.7975\n",
            "Epoch 21/30\n",
            "391/391 [==============================] - 115s 294ms/step - loss: 0.0280 - accuracy: 0.9913 - val_loss: 1.0477 - val_accuracy: 0.8219\n",
            "Epoch 22/30\n",
            "391/391 [==============================] - 114s 293ms/step - loss: 0.0159 - accuracy: 0.9955 - val_loss: 1.3115 - val_accuracy: 0.8125\n",
            "Epoch 23/30\n",
            "391/391 [==============================] - 115s 294ms/step - loss: 0.0053 - accuracy: 0.9987 - val_loss: 1.3945 - val_accuracy: 0.8183\n",
            "Epoch 24/30\n",
            "391/391 [==============================] - 114s 292ms/step - loss: 0.0227 - accuracy: 0.9932 - val_loss: 1.3235 - val_accuracy: 0.8167\n",
            "Epoch 25/30\n",
            "391/391 [==============================] - 115s 294ms/step - loss: 0.0120 - accuracy: 0.9958 - val_loss: 1.3880 - val_accuracy: 0.7767\n",
            "Epoch 26/30\n",
            "391/391 [==============================] - 114s 292ms/step - loss: 0.0316 - accuracy: 0.9895 - val_loss: 1.1574 - val_accuracy: 0.7991\n",
            "Epoch 27/30\n",
            "391/391 [==============================] - 114s 292ms/step - loss: 0.0098 - accuracy: 0.9972 - val_loss: 1.2502 - val_accuracy: 0.8157\n",
            "Epoch 28/30\n",
            "391/391 [==============================] - 115s 294ms/step - loss: 0.0062 - accuracy: 0.9980 - val_loss: 1.4150 - val_accuracy: 0.8128\n",
            "Epoch 29/30\n",
            "391/391 [==============================] - 114s 292ms/step - loss: 0.0029 - accuracy: 0.9991 - val_loss: 1.5054 - val_accuracy: 0.8077\n",
            "Epoch 30/30\n",
            "391/391 [==============================] - 115s 295ms/step - loss: 0.0069 - accuracy: 0.9982 - val_loss: 1.4881 - val_accuracy: 0.8196\n"
          ]
        }
      ]
    },
    {
      "cell_type": "code",
      "source": [
        "import matplotlib.pyplot as plt\n",
        "def create_plot(history):\n",
        "    ## Plotting the accucary graph\n",
        "\n",
        "    plt.plot(history.history['accuracy'], c='b')\n",
        "    plt.plot(history.history['val_accuracy'], c='g')\n",
        "    plt.legend(['accuracy', 'val_accuracy'])\n",
        "    plt.title('accuracy graph')\n",
        "    plt.show()\n",
        "\n",
        "\n",
        "    ## Plotting loss graph\n",
        "    plt.plot(history.history['loss'], c='b')\n",
        "    plt.plot(history.history['val_loss'], c='g')\n",
        "    plt.legend(['loss', 'val_loss'])\n",
        "    plt.title('loss graph')\n",
        "    plt.show()"
      ],
      "metadata": {
        "id": "OhTNzYNXrt_j"
      },
      "execution_count": 13,
      "outputs": []
    },
    {
      "cell_type": "code",
      "source": [
        "create_plot(history)"
      ],
      "metadata": {
        "colab": {
          "base_uri": "https://localhost:8080/",
          "height": 545
        },
        "id": "GRGmOELQrt5F",
        "outputId": "a3ad13f2-ee82-43b5-e852-b73eaf94fbf7"
      },
      "execution_count": 14,
      "outputs": [
        {
          "output_type": "display_data",
          "data": {
            "text/plain": [
              "<Figure size 432x288 with 1 Axes>"
            ],
            "image/png": "[encoded data removed]"
          },
          "metadata": {
            "needs_background": "light"
          }
        },
        {
          "output_type": "display_data",
          "data": {
            "text/plain": [
              "<Figure size 432x288 with 1 Axes>"
            ],
            "image/png": "[encoded data removed]"
          },
          "metadata": {
            "needs_background": "light"
          }
        }
      ]
    },
    {
      "cell_type": "code",
      "source": [
        ""
      ],
      "metadata": {
        "id": "gVxGgBwErtx5"
      },
      "execution_count": 14,
      "outputs": []
    },
    {
      "cell_type": "code",
      "source": [
        ""
      ],
      "metadata": {
        "id": "EYGvNaBOrtqb"
      },
      "execution_count": 14,
      "outputs": []
    },
    {
      "cell_type": "code",
      "source": [
        ""
      ],
      "metadata": {
        "id": "L8x_Qlosrtkr"
      },
      "execution_count": 14,
      "outputs": []
    },
    {
      "cell_type": "code",
      "source": [
        ""
      ],
      "metadata": {
        "id": "bf_L5OiGq7AP"
      },
      "execution_count": 14,
      "outputs": []
    },
    {
      "cell_type": "code",
      "source": [
        ""
      ],
      "metadata": {
        "id": "AeyghMtTrnfl"
      },
      "execution_count": 14,
      "outputs": []
    }
  ]
}