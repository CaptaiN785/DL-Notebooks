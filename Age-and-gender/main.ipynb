{
  "nbformat": 4,
  "nbformat_minor": 0,
  "metadata": {
    "colab": {
      "name": "main.ipynb",
      "provenance": [],
      "collapsed_sections": []
    },
    "kernelspec": {
      "name": "python3",
      "display_name": "Python 3"
    },
    "language_info": {
      "name": "python"
    },
    "accelerator": "GPU",
    "gpuClass": "standard"
  },
  "cells": [
    {
      "cell_type": "markdown",
      "source": [
        "Dataset link : <a href = \"https://www.kaggle.com/datasets/nipunarora8/age-gender-and-ethnicity-face-data-csv\">Click here</a>"
      ],
      "metadata": {
        "id": "WlXgFTTyqUGl"
      }
    },
    {
      "cell_type": "code",
      "execution_count": 253,
      "metadata": {
        "id": "LyflOyh3lPRK"
      },
      "outputs": [],
      "source": [
        "import zipfile\n",
        "import pandas as pd\n",
        "import numpy as np\n",
        "import joblib\n",
        "import math\n",
        "\n",
        "import matplotlib.pyplot as plt\n",
        "import seaborn as sns\n",
        "\n",
        "import tensorflow\n",
        "from tensorflow.keras import layers, models\n",
        "from tensorflow.keras.preprocessing import image\n",
        "from tensorflow.keras.callbacks import Callback\n",
        "\n",
        "from sklearn.model_selection import train_test_split\n",
        "from sklearn.metrics import mean_squared_error, accuracy_score\n",
        "\n"
      ]
    },
    {
      "cell_type": "code",
      "source": [
        "tensorflow.__version__"
      ],
      "metadata": {
        "colab": {
          "base_uri": "https://localhost:8080/",
          "height": 36
        },
        "id": "bpEFKOwGnV1G",
        "outputId": "6357b6be-1b89-47f4-d9dd-42338ef00552"
      },
      "execution_count": 2,
      "outputs": [
        {
          "output_type": "execute_result",
          "data": {
            "text/plain": [
              "'2.8.2'"
            ],
            "application/vnd.google.colaboratory.intrinsic+json": {
              "type": "string"
            }
          },
          "metadata": {},
          "execution_count": 2
        }
      ]
    },
    {
      "cell_type": "code",
      "source": [
        "zip = zipfile.ZipFile('data.zip', 'r')\n",
        "zip.extractall()\n",
        "zip.close()"
      ],
      "metadata": {
        "id": "L4BOfSrinXnu"
      },
      "execution_count": 5,
      "outputs": []
    },
    {
      "cell_type": "code",
      "source": [
        "df = pd.read_csv('age_gender.csv')"
      ],
      "metadata": {
        "id": "hfCpSYlVnkeu"
      },
      "execution_count": 7,
      "outputs": []
    },
    {
      "cell_type": "code",
      "source": [
        "df.head()"
      ],
      "metadata": {
        "colab": {
          "base_uri": "https://localhost:8080/",
          "height": 206
        },
        "id": "6tXiSvDQqEwo",
        "outputId": "14c869b1-2c20-4aea-b0c2-5532292f6509"
      },
      "execution_count": 8,
      "outputs": [
        {
          "output_type": "execute_result",
          "data": {
            "text/plain": [
              "   age  ethnicity  gender                        img_name  \\\n",
              "0    1          2       0  20161219203650636.jpg.chip.jpg   \n",
              "1    1          2       0  20161219222752047.jpg.chip.jpg   \n",
              "2    1          2       0  20161219222832191.jpg.chip.jpg   \n",
              "3    1          2       0  20161220144911423.jpg.chip.jpg   \n",
              "4    1          2       0  20161220144914327.jpg.chip.jpg   \n",
              "\n",
              "                                              pixels  \n",
              "0  129 128 128 126 127 130 133 135 139 142 145 14...  \n",
              "1  164 74 111 168 169 171 175 182 184 188 193 199...  \n",
              "2  67 70 71 70 69 67 70 79 90 103 116 132 145 155...  \n",
              "3  193 197 198 200 199 200 202 203 204 205 208 21...  \n",
              "4  202 205 209 210 209 209 210 211 212 214 218 21...  "
            ],
            "text/html": [
              "\n",
              "  <div id=\"df-da9735f3-a522-4652-921b-ee3514fc50b8\">\n",
              "    <div class=\"colab-df-container\">\n",
              "      <div>\n",
              "<style scoped>\n",
              "    .dataframe tbody tr th:only-of-type {\n",
              "        vertical-align: middle;\n",
              "    }\n",
              "\n",
              "    .dataframe tbody tr th {\n",
              "        vertical-align: top;\n",
              "    }\n",
              "\n",
              "    .dataframe thead th {\n",
              "        text-align: right;\n",
              "    }\n",
              "</style>\n",
              "<table border=\"1\" class=\"dataframe\">\n",
              "  <thead>\n",
              "    <tr style=\"text-align: right;\">\n",
              "      <th></th>\n",
              "      <th>age</th>\n",
              "      <th>ethnicity</th>\n",
              "      <th>gender</th>\n",
              "      <th>img_name</th>\n",
              "      <th>pixels</th>\n",
              "    </tr>\n",
              "  </thead>\n",
              "  <tbody>\n",
              "    <tr>\n",
              "      <th>0</th>\n",
              "      <td>1</td>\n",
              "      <td>2</td>\n",
              "      <td>0</td>\n",
              "      <td>20161219203650636.jpg.chip.jpg</td>\n",
              "      <td>129 128 128 126 127 130 133 135 139 142 145 14...</td>\n",
              "    </tr>\n",
              "    <tr>\n",
              "      <th>1</th>\n",
              "      <td>1</td>\n",
              "      <td>2</td>\n",
              "      <td>0</td>\n",
              "      <td>20161219222752047.jpg.chip.jpg</td>\n",
              "      <td>164 74 111 168 169 171 175 182 184 188 193 199...</td>\n",
              "    </tr>\n",
              "    <tr>\n",
              "      <th>2</th>\n",
              "      <td>1</td>\n",
              "      <td>2</td>\n",
              "      <td>0</td>\n",
              "      <td>20161219222832191.jpg.chip.jpg</td>\n",
              "      <td>67 70 71 70 69 67 70 79 90 103 116 132 145 155...</td>\n",
              "    </tr>\n",
              "    <tr>\n",
              "      <th>3</th>\n",
              "      <td>1</td>\n",
              "      <td>2</td>\n",
              "      <td>0</td>\n",
              "      <td>20161220144911423.jpg.chip.jpg</td>\n",
              "      <td>193 197 198 200 199 200 202 203 204 205 208 21...</td>\n",
              "    </tr>\n",
              "    <tr>\n",
              "      <th>4</th>\n",
              "      <td>1</td>\n",
              "      <td>2</td>\n",
              "      <td>0</td>\n",
              "      <td>20161220144914327.jpg.chip.jpg</td>\n",
              "      <td>202 205 209 210 209 209 210 211 212 214 218 21...</td>\n",
              "    </tr>\n",
              "  </tbody>\n",
              "</table>\n",
              "</div>\n",
              "      <button class=\"colab-df-convert\" onclick=\"convertToInteractive('df-da9735f3-a522-4652-921b-ee3514fc50b8')\"\n",
              "              title=\"Convert this dataframe to an interactive table.\"\n",
              "              style=\"display:none;\">\n",
              "        \n",
              "  <svg xmlns=\"http://www.w3.org/2000/svg\" height=\"24px\"viewBox=\"0 0 24 24\"\n",
              "       width=\"24px\">\n",
              "    <path d=\"M0 0h24v24H0V0z\" fill=\"none\"/>\n",
              "    <path d=\"M18.56 5.44l.94 2.06.94-2.06 2.06-.94-2.06-.94-.94-2.06-.94 2.06-2.06.94zm-11 1L8.5 8.5l.94-2.06 2.06-.94-2.06-.94L8.5 2.5l-.94 2.06-2.06.94zm10 10l.94 2.06.94-2.06 2.06-.94-2.06-.94-.94-2.06-.94 2.06-2.06.94z\"/><path d=\"M17.41 7.96l-1.37-1.37c-.4-.4-.92-.59-1.43-.59-.52 0-1.04.2-1.43.59L10.3 9.45l-7.72 7.72c-.78.78-.78 2.05 0 2.83L4 21.41c.39.39.9.59 1.41.59.51 0 1.02-.2 1.41-.59l7.78-7.78 2.81-2.81c.8-.78.8-2.07 0-2.86zM5.41 20L4 18.59l7.72-7.72 1.47 1.35L5.41 20z\"/>\n",
              "  </svg>\n",
              "      </button>\n",
              "      \n",
              "  <style>\n",
              "    .colab-df-container {\n",
              "      display:flex;\n",
              "      flex-wrap:wrap;\n",
              "      gap: 12px;\n",
              "    }\n",
              "\n",
              "    .colab-df-convert {\n",
              "      background-color: #E8F0FE;\n",
              "      border: none;\n",
              "      border-radius: 50%;\n",
              "      cursor: pointer;\n",
              "      display: none;\n",
              "      fill: #1967D2;\n",
              "      height: 32px;\n",
              "      padding: 0 0 0 0;\n",
              "      width: 32px;\n",
              "    }\n",
              "\n",
              "    .colab-df-convert:hover {\n",
              "      background-color: #E2EBFA;\n",
              "      box-shadow: 0px 1px 2px rgba(60, 64, 67, 0.3), 0px 1px 3px 1px rgba(60, 64, 67, 0.15);\n",
              "      fill: #174EA6;\n",
              "    }\n",
              "\n",
              "    [theme=dark] .colab-df-convert {\n",
              "      background-color: #3B4455;\n",
              "      fill: #D2E3FC;\n",
              "    }\n",
              "\n",
              "    [theme=dark] .colab-df-convert:hover {\n",
              "      background-color: #434B5C;\n",
              "      box-shadow: 0px 1px 3px 1px rgba(0, 0, 0, 0.15);\n",
              "      filter: drop-shadow(0px 1px 2px rgba(0, 0, 0, 0.3));\n",
              "      fill: #FFFFFF;\n",
              "    }\n",
              "  </style>\n",
              "\n",
              "      <script>\n",
              "        const buttonEl =\n",
              "          document.querySelector('#df-da9735f3-a522-4652-921b-ee3514fc50b8 button.colab-df-convert');\n",
              "        buttonEl.style.display =\n",
              "          google.colab.kernel.accessAllowed ? 'block' : 'none';\n",
              "\n",
              "        async function convertToInteractive(key) {\n",
              "          const element = document.querySelector('#df-da9735f3-a522-4652-921b-ee3514fc50b8');\n",
              "          const dataTable =\n",
              "            await google.colab.kernel.invokeFunction('convertToInteractive',\n",
              "                                                     [key], {});\n",
              "          if (!dataTable) return;\n",
              "\n",
              "          const docLinkHtml = 'Like what you see? Visit the ' +\n",
              "            '<a target=\"_blank\" href=https://colab.research.google.com/notebooks/data_table.ipynb>data table notebook</a>'\n",
              "            + ' to learn more about interactive tables.';\n",
              "          element.innerHTML = '';\n",
              "          dataTable['output_type'] = 'display_data';\n",
              "          await google.colab.output.renderOutput(dataTable, element);\n",
              "          const docLink = document.createElement('div');\n",
              "          docLink.innerHTML = docLinkHtml;\n",
              "          element.appendChild(docLink);\n",
              "        }\n",
              "      </script>\n",
              "    </div>\n",
              "  </div>\n",
              "  "
            ]
          },
          "metadata": {},
          "execution_count": 8
        }
      ]
    },
    {
      "cell_type": "code",
      "source": [
        "df['age'].unique()"
      ],
      "metadata": {
        "colab": {
          "base_uri": "https://localhost:8080/"
        },
        "id": "eQubQ-hpqEr-",
        "outputId": "b9a29c7e-c9b5-4f51-ff9a-f0d81cb8d8a7"
      },
      "execution_count": 9,
      "outputs": [
        {
          "output_type": "execute_result",
          "data": {
            "text/plain": [
              "array([  1,  10, 100, 101, 103, 105,  11, 110, 111, 115, 116,  12,  13,\n",
              "        14,  15,  16,  17,  18,  19,   2,  20,  21,  22,  23,  24,  25,\n",
              "        26,  27,  28,  29,   3,  30,  31,  32,  33,  34,  35,  36,  37,\n",
              "        38,  39,   4,  40,  41,  42,  43,  44,  45,  46,  47,  48,  49,\n",
              "         5,  50,  51,  52,  53,  54,  55,  56,  57,  58,  59,   6,  60,\n",
              "        61,  62,  63,  64,  65,  66,  67,  68,  69,   7,  70,  71,  72,\n",
              "        73,  74,  75,  76,  77,  78,  79,   8,  80,  81,  82,  83,  84,\n",
              "        85,  86,  87,  88,  89,   9,  90,  91,  92,  93,  95,  96,  99])"
            ]
          },
          "metadata": {},
          "execution_count": 9
        }
      ]
    },
    {
      "cell_type": "code",
      "source": [
        "df.shape"
      ],
      "metadata": {
        "colab": {
          "base_uri": "https://localhost:8080/"
        },
        "id": "2aW2VI305N6E",
        "outputId": "367c1200-3207-4b1c-ac14-d7e3984cdb40"
      },
      "execution_count": 93,
      "outputs": [
        {
          "output_type": "execute_result",
          "data": {
            "text/plain": [
              "(23705, 6)"
            ]
          },
          "metadata": {},
          "execution_count": 93
        }
      ]
    },
    {
      "cell_type": "code",
      "source": [
        "## 1 > Female\n",
        "## 0 > Male\n",
        "df['gender'].unique()"
      ],
      "metadata": {
        "colab": {
          "base_uri": "https://localhost:8080/"
        },
        "id": "RLjjyxvmqEm9",
        "outputId": "df934304-ce91-4b60-aa4d-29c6b50bf5b0"
      },
      "execution_count": 11,
      "outputs": [
        {
          "output_type": "execute_result",
          "data": {
            "text/plain": [
              "array([0, 1])"
            ]
          },
          "metadata": {},
          "execution_count": 11
        }
      ]
    },
    {
      "cell_type": "code",
      "source": [
        "len(df['pixels'].iloc[0])"
      ],
      "metadata": {
        "colab": {
          "base_uri": "https://localhost:8080/"
        },
        "id": "OiMcFTsYqEiD",
        "outputId": "fb108088-6de8-4909-a370-b032b8b53dcf"
      },
      "execution_count": 18,
      "outputs": [
        {
          "output_type": "execute_result",
          "data": {
            "text/plain": [
              "8917"
            ]
          },
          "metadata": {},
          "execution_count": 18
        }
      ]
    },
    {
      "cell_type": "code",
      "source": [
        "df['pixels'].iloc[2]"
      ],
      "metadata": {
        "colab": {
          "base_uri": "https://localhost:8080/",
          "height": 183
        },
        "id": "bV8zxHc7rPnJ",
        "outputId": "319843ef-c6fa-4f9e-a08f-3f4428675065"
      },
      "execution_count": 21,
      "outputs": [
        {
          "output_type": "execute_result",
          "data": {
            "text/plain": [
              "'67 70 71 70 69 67 70 79 90 103 116 132 145 155 161 166 169 175 177 178 179 180 183 186 187 188 192 194 198 203 206 213 214 216 220 219 215 213 211 211 210 207 206 203 200 197 194 192 65 66 69 70 70 69 72 83 88 100 112 125 139 155 159 165 167 170 174 176 178 177 180 185 186 187 190 193 195 197 201 207 208 212 215 215 215 213 211 211 210 207 204 201 200 197 194 192 61 63 69 71 70 70 72 81 87 100 113 123 137 149 153 158 164 166 171 173 173 174 182 185 184 188 190 191 189 192 197 201 204 210 213 212 211 211 208 209 208 206 204 199 199 197 194 190 56 62 69 71 72 72 73 80 88 103 114 124 134 147 152 156 160 161 162 164 167 169 171 179 183 186 188 188 185 186 188 196 202 206 206 208 208 201 203 205 206 205 202 196 198 198 193 191 62 61 72 72 72 72 74 78 82 94 110 120 133 148 157 161 158 160 158 162 165 165 167 174 180 183 186 184 182 183 185 192 200 200 199 197 195 192 194 201 207 208 204 202 201 200 195 193 62 64 74 74 73 70 69 70 74 83 91 104 120 140 150 162 160 157 156 156 159 165 174 175 177 182 185 179 177 177 176 174 174 175 176 180 189 197 199 198 205 207 206 203 202 202 200 195 61 70 72 77 75 70 67 68 76 86 95 105 118 125 128 137 146 153 153 149 158 164 174 180 183 184 182 175 165 166 166 165 164 165 172 179 193 203 204 202 205 207 205 206 204 202 203 201 65 71 72 77 75 68 68 69 82 98 109 118 125 129 124 122 126 136 143 146 157 162 175 185 188 187 182 177 174 172 175 176 175 181 193 200 206 212 208 206 205 206 205 208 207 206 203 202 71 74 76 78 75 70 68 75 94 116 136 148 153 151 145 137 131 132 134 141 151 163 173 183 190 190 191 191 185 182 181 184 185 191 199 206 211 218 219 215 209 207 208 211 210 207 206 203 75 76 79 77 75 70 73 82 107 127 149 162 170 171 170 158 143 129 131 136 149 162 172 182 192 195 198 198 193 186 181 182 181 189 197 206 215 218 217 217 213 209 209 212 213 210 209 206 77 78 80 79 77 75 80 89 109 129 150 165 176 183 186 177 155 131 126 131 145 156 170 183 194 200 202 202 190 180 178 175 176 182 191 203 212 215 216 215 217 211 211 214 211 210 211 207 86 80 82 79 77 77 79 89 103 124 144 159 173 186 190 189 173 146 123 121 137 151 168 186 196 201 202 199 182 175 170 168 166 166 175 187 194 204 208 211 213 212 214 213 213 216 216 211 94 82 83 78 77 77 76 81 96 110 114 106 103 111 136 165 173 159 126 112 129 145 164 182 198 206 207 202 179 167 165 135 89 63 65 85 111 157 188 204 210 211 210 209 212 213 215 211 78 87 82 77 76 76 79 80 86 82 51 47 26 18 22 79 138 163 137 115 122 145 164 186 201 209 210 204 172 163 144 84 30 33 86 71 68 101 149 181 202 207 211 215 216 214 215 210 67 84 82 77 76 76 73 76 73 59 61 58 23 21 16 80 67 158 148 115 121 144 165 189 208 215 217 208 187 177 149 86 37 26 78 54 102 144 122 154 185 200 213 217 218 217 216 210 66 83 80 77 79 81 77 77 82 96 85 75 26 20 26 47 41 134 168 124 129 152 174 196 213 222 227 218 199 190 166 116 39 36 44 54 133 179 183 199 211 215 222 221 222 221 218 213 58 83 84 81 85 90 92 103 119 125 133 121 77 65 71 102 137 168 166 137 140 162 181 199 216 226 230 228 210 195 185 158 127 109 118 159 194 198 192 206 214 220 226 225 223 220 218 213 56 79 86 81 87 96 100 116 131 142 157 169 169 169 176 179 181 180 163 147 153 169 184 201 217 227 231 228 219 205 183 172 172 178 193 207 217 219 221 218 218 220 223 224 222 219 214 209 55 80 85 82 86 97 107 125 140 153 161 168 172 172 176 182 181 180 160 152 158 172 185 201 214 222 228 225 225 215 201 190 181 180 187 200 209 214 221 223 220 219 222 223 220 217 214 209 59 76 84 83 87 93 106 132 150 164 173 179 177 184 188 189 186 174 166 155 156 167 183 201 210 216 227 224 223 216 211 206 202 201 204 209 214 217 222 227 224 222 222 220 219 217 216 208 53 67 89 81 86 89 104 127 148 167 177 182 185 185 191 194 189 179 160 144 136 159 181 202 210 215 226 223 218 220 212 207 205 205 208 207 213 218 225 225 225 223 220 219 217 216 213 205 59 59 90 82 84 90 102 121 143 163 171 181 185 191 196 195 195 183 152 111 114 155 178 200 214 217 223 219 212 211 208 206 206 207 210 209 215 221 223 223 223 221 218 216 215 212 208 205 57 58 89 82 84 89 101 115 138 156 167 180 187 197 204 205 201 184 135 95 108 151 181 208 225 221 215 211 204 198 199 202 204 206 209 213 216 219 220 221 223 220 218 216 214 211 210 199 75 61 85 83 82 90 105 117 139 155 173 184 193 203 208 209 203 175 118 113 121 148 177 198 216 218 212 208 201 190 189 195 199 204 209 212 214 218 219 219 218 216 217 217 216 212 206 200 104 64 82 90 84 90 106 120 141 157 173 184 196 207 211 213 207 150 112 136 140 132 154 176 188 200 218 214 207 188 178 186 192 198 206 212 216 219 221 221 219 217 216 215 212 209 201 195 135 67 73 88 81 88 103 121 139 158 173 184 196 207 213 218 196 126 112 129 85 100 134 151 154 119 148 200 208 194 176 180 188 195 205 213 217 220 222 222 221 218 217 215 211 208 200 188 153 91 73 89 84 87 100 118 135 155 165 179 195 207 213 217 193 122 110 135 105 96 125 146 152 122 118 175 200 196 182 179 182 194 201 213 217 222 224 224 223 220 217 215 209 207 199 190 155 123 75 88 84 84 96 111 132 153 162 178 194 203 211 214 199 163 142 138 134 145 172 181 178 189 177 179 198 197 188 183 182 195 201 211 216 219 222 222 221 218 216 213 210 207 199 191 155 121 69 89 85 82 91 110 127 150 165 178 192 200 208 209 200 196 178 157 155 179 200 194 184 204 209 210 201 204 193 190 189 196 202 210 214 218 219 219 218 215 216 213 208 206 201 179 161 125 71 84 81 81 89 107 130 149 164 176 187 199 206 204 200 191 169 150 145 166 179 177 186 205 217 216 213 203 198 194 192 196 201 209 213 214 216 217 217 214 216 212 207 203 195 170 160 153 112 82 84 80 87 104 122 142 158 172 180 194 199 199 195 185 152 126 117 123 137 170 182 197 212 214 219 206 204 201 198 198 202 208 209 210 213 214 216 213 214 211 206 199 188 166 158 160 156 140 89 79 83 101 117 135 154 167 175 188 192 195 194 173 135 110 92 94 105 146 158 156 185 211 212 203 199 199 201 202 202 206 207 205 209 212 213 211 210 209 203 199 181 158 156 158 151 153 103 77 83 93 112 128 149 161 170 180 186 190 184 159 118 91 77 74 76 91 107 117 135 173 199 198 191 195 199 203 203 206 209 207 208 210 211 208 207 207 203 189 171 160 159 158 159 157 121 83 81 87 102 120 140 152 161 172 182 191 184 144 94 74 57 40 45 50 51 63 84 109 145 155 167 179 196 202 203 204 206 204 206 208 207 204 205 205 197 180 162 159 161 160 160 158 142 95 79 82 98 113 131 145 153 164 178 187 171 104 65 64 76 95 123 123 125 129 125 123 118 98 113 150 182 196 201 202 204 203 205 205 204 202 199 197 187 172 157 159 160 160 159 159 155 115 81 81 87 101 121 138 150 161 176 190 180 123 80 91 109 125 147 152 151 165 182 180 173 143 106 119 163 190 197 197 198 202 202 201 200 199 195 193 178 163 157 158 160 160 159 159 155 142 93 80 80 91 109 128 144 160 173 181 180 137 85 79 91 114 138 140 145 152 159 166 182 190 163 131 144 172 182 192 193 198 198 198 194 190 189 176 163 158 156 157 159 159 159 159 158 158 128 86 80 85 97 112 130 151 163 174 167 137 106 87 86 95 107 113 119 131 140 158 180 190 183 155 142 155 167 180 188 190 190 188 187 186 174 165 162 157 161 157 159 159 159 159 154 156 155 120 83 83 84 97 115 136 147 148 147 136 122 111 107 110 110 123 133 134 138 149 169 180 179 168 147 147 153 166 176 174 177 178 173 169 159 155 160 157 155 158 159 159 159 159 159 160 158 156 119 90 74 90 96 118 127 130 126 125 128 127 131 142 155 176 199 204 190 176 176 178 174 166 154 148 145 150 158 162 162 164 152 151 155 158 157 156 148 126 160 160 159 159 156 156 158 154 160 128 102 85 95 105 109 111 107 118 132 141 148 159 174 189 202 206 212 207 190 177 175 166 150 141 133 140 140 146 137 131 141 160 138 141 148 141 89 54 160 160 160 160 158 162 159 161 154 157 146 123 91 86 91 93 92 96 112 128 138 153 169 181 188 196 204 205 197 188 180 166 146 133 125 122 120 122 128 142 162 138 122 125 121 110 61 51 160 160 160 160 159 159 159 159 159 155 157 126 83 72 77 78 78 82 91 104 112 131 150 160 168 180 190 195 193 187 179 161 134 120 113 114 121 129 142 162 150 127 120 121 118 111 99 67 160 160 160 160 159 156 158 156 151 134 95 65 58 59 62 71 76 77 76 82 93 110 127 135 141 153 161 170 173 168 159 139 119 121 120 128 131 149 164 168 130 119 119 120 116 114 102 88 158 159 161 161 158 160 152 137 101 75 63 63 53 56 51 57 63 71 78 85 92 97 106 109 111 117 121 127 132 130 124 119 120 125 127 137 163 185 177 140 125 118 118 118 115 115 101 100 159 157 159 156 146 125 100 83 71 69 65 58 61 55 57 59 61 67 72 76 81 88 93 97 101 104 107 108 111 116 119 120 129 146 167 194 204 183 137 119 116 116 117 116 114 114 105 105 102 114 110 96 88 82 81 77 77 74 71 66 64 60 58 60 63 72 76 80 80 82 84 86 91 93 101 107 111 115 127 153 174 202 214 212 184 139 110 118 116 116 117 117 116 114 110 107 98 97 95 88 88 83 82 80 80 77 75 71 68 64 65 66 69 76 80 84 87 92 96 100 105 109 116 129 142 158 177 197 211 211 202 168 128 116 117 113 116 116 117 117 115 112 111 108'"
            ],
            "application/vnd.google.colaboratory.intrinsic+json": {
              "type": "string"
            }
          },
          "metadata": {},
          "execution_count": 21
        }
      ]
    },
    {
      "cell_type": "code",
      "source": [
        "## Let's change the string pixel array into float array\n",
        "np.array(df['pixels'].iloc[2].split(), dtype = 'float32')"
      ],
      "metadata": {
        "colab": {
          "base_uri": "https://localhost:8080/"
        },
        "id": "VsluRZX1rxnX",
        "outputId": "9d1ce2df-35cd-48b6-d53d-0f0b40144b95"
      },
      "execution_count": 24,
      "outputs": [
        {
          "output_type": "execute_result",
          "data": {
            "text/plain": [
              "(2304,)"
            ]
          },
          "metadata": {},
          "execution_count": 24
        }
      ]
    },
    {
      "cell_type": "code",
      "source": [
        "df['pix'] = df['pixels'].apply( lambda x : x.split())"
      ],
      "metadata": {
        "id": "z7iUXW2AsRWW"
      },
      "execution_count": 115,
      "outputs": []
    },
    {
      "cell_type": "code",
      "source": [
        "## Taking image as square shape \n",
        "import math\n",
        "\n",
        "size = int(math.sqrt(len(df['pix'].iloc[0])))\n",
        "shape = (size, size)\n",
        "print(\"Image shape is {} x {}\".format(size, size))"
      ],
      "metadata": {
        "colab": {
          "base_uri": "https://localhost:8080/"
        },
        "id": "khY2D7-ftqNi",
        "outputId": "1e044037-58b2-49a6-a9b5-6d3add91107e"
      },
      "execution_count": 117,
      "outputs": [
        {
          "output_type": "stream",
          "name": "stdout",
          "text": [
            "Image shape is 48 x 48\n"
          ]
        }
      ]
    },
    {
      "cell_type": "code",
      "source": [
        "plt.imshow(np.array(df['pix'].iloc[23], dtype='float32').reshape(shape))"
      ],
      "metadata": {
        "colab": {
          "base_uri": "https://localhost:8080/",
          "height": 285
        },
        "id": "gq3fSwgDuVZU",
        "outputId": "b3eb5cfc-5d58-434e-dbf0-cb0f56246b80"
      },
      "execution_count": 121,
      "outputs": [
        {
          "output_type": "execute_result",
          "data": {
            "text/plain": [
              "<matplotlib.image.AxesImage at 0x7f803ff535d0>"
            ]
          },
          "metadata": {},
          "execution_count": 121
        },
        {
          "output_type": "display_data",
          "data": {
            "text/plain": [
              "<Figure size 432x288 with 1 Axes>"
            ],
            "image/png": "[encoded data removed]"
          },
          "metadata": {
            "needs_background": "light"
          }
        }
      ]
    },
    {
      "cell_type": "code",
      "source": [
        "## Here 48 x 48 is correct shape of image"
      ],
      "metadata": {
        "id": "Pl5D3ACJuoXN"
      },
      "execution_count": 122,
      "outputs": []
    },
    {
      "cell_type": "code",
      "source": [
        "## Now plotting 5 random image here\n",
        "i = 0\n",
        "plt.figure(figsize=(16, 6))\n",
        "for d in df.sample(5).values:\n",
        "    plt.subplot(1, 5, i+1)\n",
        "    i += 1\n",
        "    plt.imshow(np.array(d[-1], dtype='float32').reshape(shape))\n",
        "    plt.xlabel(\"Age : {} and Gender : {}\".format(d[0], d[2]))\n",
        "    plt.title(\"5 random image\")\n",
        "plt.show()"
      ],
      "metadata": {
        "colab": {
          "base_uri": "https://localhost:8080/",
          "height": 232
        },
        "id": "NM_YyCeTu_SY",
        "outputId": "759360d6-3c1c-4feb-84d4-36f1027360b7"
      },
      "execution_count": 124,
      "outputs": [
        {
          "output_type": "display_data",
          "data": {
            "text/plain": [
              "<Figure size 1152x432 with 5 Axes>"
            ],
            "image/png": "[encoded data removed]"
          },
          "metadata": {
            "needs_background": "light"
          }
        }
      ]
    },
    {
      "cell_type": "code",
      "source": [
        "## Let's do some distribution \n",
        "plt.figure(figsize=(12, 6))\n",
        "sns.histplot(df['age'], kde = True)"
      ],
      "metadata": {
        "colab": {
          "base_uri": "https://localhost:8080/",
          "height": 406
        },
        "id": "-k-oZ7ykvubA",
        "outputId": "b06be7e5-c444-4779-9848-3611d34da8af"
      },
      "execution_count": 125,
      "outputs": [
        {
          "output_type": "execute_result",
          "data": {
            "text/plain": [
              "<matplotlib.axes._subplots.AxesSubplot at 0x7f8124330910>"
            ]
          },
          "metadata": {},
          "execution_count": 125
        },
        {
          "output_type": "display_data",
          "data": {
            "text/plain": [
              "<Figure size 864x432 with 1 Axes>"
            ],
            "image/png": "[encoded data removed]"
          },
          "metadata": {
            "needs_background": "light"
          }
        }
      ]
    },
    {
      "cell_type": "code",
      "source": [
        "plt.figure(figsize=(12, 6))\n",
        "sns.countplot(df['gender'])"
      ],
      "metadata": {
        "colab": {
          "base_uri": "https://localhost:8080/",
          "height": 463
        },
        "id": "7-g5cZV9v8QL",
        "outputId": "efa491c7-3a12-4415-b975-3df213b177c2"
      },
      "execution_count": 67,
      "outputs": [
        {
          "output_type": "stream",
          "name": "stderr",
          "text": [
            "/usr/local/lib/python3.7/dist-packages/seaborn/_decorators.py:43: FutureWarning: Pass the following variable as a keyword arg: x. From version 0.12, the only valid positional argument will be `data`, and passing other arguments without an explicit keyword will result in an error or misinterpretation.\n",
            "  FutureWarning\n"
          ]
        },
        {
          "output_type": "execute_result",
          "data": {
            "text/plain": [
              "<matplotlib.axes._subplots.AxesSubplot at 0x7f81a6c349d0>"
            ]
          },
          "metadata": {},
          "execution_count": 67
        },
        {
          "output_type": "display_data",
          "data": {
            "text/plain": [
              "<Figure size 864x432 with 1 Axes>"
            ],
            "image/png": "[encoded data removed]"
          },
          "metadata": {
            "needs_background": "light"
          }
        }
      ]
    },
    {
      "cell_type": "code",
      "source": [
        "plt.figure(figsize=(12, 6))\n",
        "sns.countplot(df['ethnicity'])"
      ],
      "metadata": {
        "colab": {
          "base_uri": "https://localhost:8080/",
          "height": 463
        },
        "id": "AWOa9pYRzYTH",
        "outputId": "46fadfd1-fc69-4ef5-e842-bae3a9c3625a"
      },
      "execution_count": 69,
      "outputs": [
        {
          "output_type": "stream",
          "name": "stderr",
          "text": [
            "/usr/local/lib/python3.7/dist-packages/seaborn/_decorators.py:43: FutureWarning: Pass the following variable as a keyword arg: x. From version 0.12, the only valid positional argument will be `data`, and passing other arguments without an explicit keyword will result in an error or misinterpretation.\n",
            "  FutureWarning\n"
          ]
        },
        {
          "output_type": "execute_result",
          "data": {
            "text/plain": [
              "<matplotlib.axes._subplots.AxesSubplot at 0x7f81aff74b90>"
            ]
          },
          "metadata": {},
          "execution_count": 69
        },
        {
          "output_type": "display_data",
          "data": {
            "text/plain": [
              "<Figure size 864x432 with 1 Axes>"
            ],
            "image/png": "[encoded data removed]"
          },
          "metadata": {
            "needs_background": "light"
          }
        }
      ]
    },
    {
      "cell_type": "markdown",
      "source": [
        "# Creating Gender Model"
      ],
      "metadata": {
        "id": "vhEIvZ0vN6QE"
      }
    },
    {
      "cell_type": "code",
      "source": [
        "## Splitting data into train and test set\n",
        "\n",
        "X = df['pix']\n",
        "y = df['gender']"
      ],
      "metadata": {
        "id": "hI8dA8Jx1A_Z"
      },
      "execution_count": 180,
      "outputs": []
    },
    {
      "cell_type": "code",
      "source": [
        "## Reshaping the input data as convolutional layer need chanel too.\n",
        "\n",
        "first = True\n",
        "x = []\n",
        "for i in X:\n",
        "    x.append(np.array(i, dtype = 'float32'))\n",
        "X = np.array(x).reshape((-1, 48, 48, 1))"
      ],
      "metadata": {
        "id": "wYT3S9NS4B3J"
      },
      "execution_count": 181,
      "outputs": []
    },
    {
      "cell_type": "code",
      "source": [
        "X.shape"
      ],
      "metadata": {
        "colab": {
          "base_uri": "https://localhost:8080/"
        },
        "id": "nWpAVLSyChvD",
        "outputId": "994d2e04-c24e-440a-f367-8983418eaa94"
      },
      "execution_count": 182,
      "outputs": [
        {
          "output_type": "execute_result",
          "data": {
            "text/plain": [
              "(23705, 48, 48, 1)"
            ]
          },
          "metadata": {},
          "execution_count": 182
        }
      ]
    },
    {
      "cell_type": "code",
      "source": [
        "## splitting the data into train and test\n",
        "X_train, X_test, y_train, y_test = train_test_split(X, y, test_size = 0.2, random_state = 0)"
      ],
      "metadata": {
        "id": "39QAQU6X1KBn"
      },
      "execution_count": 183,
      "outputs": []
    },
    {
      "cell_type": "code",
      "source": [
        "## Creating the imagedata generator\n",
        "\n",
        "BATCH_SIZE = 64\n",
        "STEPS_PER_EPOCHS = int(len(X_train)/BATCH_SIZE)\n",
        "VALIDATION_STEPS = int(len(X_test)/BATCH_SIZE)\n",
        "\n",
        "train_gen = image.ImageDataGenerator(\n",
        "    rescale = 1.0/255.0,\n",
        "    horizontal_flip=True,\n",
        "    zoom_range=0.2\n",
        ")\n",
        "\n",
        "test_gen = image.ImageDataGenerator(rescale = 1.0/255.0)"
      ],
      "metadata": {
        "id": "MtdF3s4n4-yq"
      },
      "execution_count": 184,
      "outputs": []
    },
    {
      "cell_type": "code",
      "source": [
        "## Flowing the train set into image generator\n",
        "train_set = train_gen.flow(X_train, y_train, batch_size = BATCH_SIZE)\n",
        "test_set = test_gen.flow(X_test, y_test, batch_size=BATCH_SIZE)"
      ],
      "metadata": {
        "id": "XRY1Ibet4-tg"
      },
      "execution_count": 185,
      "outputs": []
    },
    {
      "cell_type": "code",
      "source": [
        "## Now Creating the gender model\n",
        "\n",
        "gen_model = models.Sequential([\n",
        "    layers.Conv2D(32, (3, 3), input_shape=(48, 48, 1), padding = 'same', activation='relu'),\n",
        "    layers.Conv2D(32, (3, 3), padding = 'same', activation= 'relu'),\n",
        "    layers.BatchNormalization(),\n",
        "    layers.MaxPooling2D((2, 2)), \n",
        "\n",
        "    layers.Conv2D(64, (3, 3), padding = 'same', activation= 'relu'),\n",
        "    layers.MaxPooling2D((2, 2)),\n",
        "\n",
        "    layers.Conv2D(128, (3, 3), padding = 'same', activation= 'relu'),\n",
        "    layers.MaxPooling2D((2, 2)),\n",
        "    \n",
        "    layers.Flatten(),\n",
        "    layers.Dropout(0.2),\n",
        "    layers.Dense(256, activation = 'relu'),\n",
        "    layers.Dense(1, activation = 'sigmoid')\n",
        "])\n",
        "\n",
        "gen_model.compile(optimizer = 'adam', \n",
        "                  loss = 'binary_crossentropy',\n",
        "                  metrics = ['accuracy'])\n",
        "gen_model.summary()"
      ],
      "metadata": {
        "colab": {
          "base_uri": "https://localhost:8080/"
        },
        "id": "l7eDzeEOzfAp",
        "outputId": "fa8ab5ab-33eb-47b6-fe8f-8e04ed26a247"
      },
      "execution_count": 193,
      "outputs": [
        {
          "output_type": "stream",
          "name": "stdout",
          "text": [
            "Model: \"sequential_6\"\n",
            "_________________________________________________________________\n",
            " Layer (type)                Output Shape              Param #   \n",
            "=================================================================\n",
            " conv2d_19 (Conv2D)          (None, 48, 48, 32)        320       \n",
            "                                                                 \n",
            " conv2d_20 (Conv2D)          (None, 48, 48, 32)        9248      \n",
            "                                                                 \n",
            " batch_normalization_1 (Batc  (None, 48, 48, 32)       128       \n",
            " hNormalization)                                                 \n",
            "                                                                 \n",
            " max_pooling2d_18 (MaxPoolin  (None, 24, 24, 32)       0         \n",
            " g2D)                                                            \n",
            "                                                                 \n",
            " conv2d_21 (Conv2D)          (None, 24, 24, 64)        18496     \n",
            "                                                                 \n",
            " max_pooling2d_19 (MaxPoolin  (None, 12, 12, 64)       0         \n",
            " g2D)                                                            \n",
            "                                                                 \n",
            " conv2d_22 (Conv2D)          (None, 12, 12, 128)       73856     \n",
            "                                                                 \n",
            " max_pooling2d_20 (MaxPoolin  (None, 6, 6, 128)        0         \n",
            " g2D)                                                            \n",
            "                                                                 \n",
            " flatten_6 (Flatten)         (None, 4608)              0         \n",
            "                                                                 \n",
            " dropout_1 (Dropout)         (None, 4608)              0         \n",
            "                                                                 \n",
            " dense_12 (Dense)            (None, 256)               1179904   \n",
            "                                                                 \n",
            " dense_13 (Dense)            (None, 1)                 257       \n",
            "                                                                 \n",
            "=================================================================\n",
            "Total params: 1,282,209\n",
            "Trainable params: 1,282,145\n",
            "Non-trainable params: 64\n",
            "_________________________________________________________________\n"
          ]
        }
      ]
    },
    {
      "cell_type": "code",
      "source": [
        "gen_history = gen_model.fit(train_set,\n",
        "              steps_per_epoch=STEPS_PER_EPOCHS,\n",
        "              epochs = 20,\n",
        "              validation_data=test_set,\n",
        "              validation_steps = VALIDATION_STEPS)"
      ],
      "metadata": {
        "colab": {
          "base_uri": "https://localhost:8080/"
        },
        "id": "VAXrT2qm3st9",
        "outputId": "09fcdf25-e3c0-458e-84e7-5c2097d19854"
      },
      "execution_count": 194,
      "outputs": [
        {
          "output_type": "stream",
          "name": "stdout",
          "text": [
            "Epoch 1/20\n",
            "296/296 [==============================] - 10s 30ms/step - loss: 0.5186 - accuracy: 0.7446 - val_loss: 0.4967 - val_accuracy: 0.8418\n",
            "Epoch 2/20\n",
            "296/296 [==============================] - 7s 24ms/step - loss: 0.3694 - accuracy: 0.8297 - val_loss: 0.3294 - val_accuracy: 0.8602\n",
            "Epoch 3/20\n",
            "296/296 [==============================] - 8s 26ms/step - loss: 0.3319 - accuracy: 0.8514 - val_loss: 0.2930 - val_accuracy: 0.8708\n",
            "Epoch 4/20\n",
            "296/296 [==============================] - 7s 25ms/step - loss: 0.3047 - accuracy: 0.8642 - val_loss: 0.2763 - val_accuracy: 0.8765\n",
            "Epoch 5/20\n",
            "296/296 [==============================] - 7s 25ms/step - loss: 0.2976 - accuracy: 0.8722 - val_loss: 0.2688 - val_accuracy: 0.8843\n",
            "Epoch 6/20\n",
            "296/296 [==============================] - 7s 24ms/step - loss: 0.2807 - accuracy: 0.8749 - val_loss: 0.2713 - val_accuracy: 0.8813\n",
            "Epoch 7/20\n",
            "296/296 [==============================] - 7s 24ms/step - loss: 0.2694 - accuracy: 0.8838 - val_loss: 0.3063 - val_accuracy: 0.8611\n",
            "Epoch 8/20\n",
            "296/296 [==============================] - 7s 24ms/step - loss: 0.2588 - accuracy: 0.8886 - val_loss: 0.2743 - val_accuracy: 0.8818\n",
            "Epoch 9/20\n",
            "296/296 [==============================] - 8s 25ms/step - loss: 0.2580 - accuracy: 0.8864 - val_loss: 0.2393 - val_accuracy: 0.8993\n",
            "Epoch 10/20\n",
            "296/296 [==============================] - 7s 24ms/step - loss: 0.2532 - accuracy: 0.8918 - val_loss: 0.2617 - val_accuracy: 0.8877\n",
            "Epoch 11/20\n",
            "296/296 [==============================] - 7s 25ms/step - loss: 0.2503 - accuracy: 0.8920 - val_loss: 0.2526 - val_accuracy: 0.8923\n",
            "Epoch 12/20\n",
            "296/296 [==============================] - 7s 25ms/step - loss: 0.2394 - accuracy: 0.8967 - val_loss: 0.2407 - val_accuracy: 0.9001\n",
            "Epoch 13/20\n",
            "296/296 [==============================] - 7s 25ms/step - loss: 0.2338 - accuracy: 0.8996 - val_loss: 0.2244 - val_accuracy: 0.9035\n",
            "Epoch 14/20\n",
            "296/296 [==============================] - 8s 27ms/step - loss: 0.2289 - accuracy: 0.9019 - val_loss: 0.2482 - val_accuracy: 0.8913\n",
            "Epoch 15/20\n",
            "296/296 [==============================] - 7s 24ms/step - loss: 0.2294 - accuracy: 0.9039 - val_loss: 0.2413 - val_accuracy: 0.8984\n",
            "Epoch 16/20\n",
            "296/296 [==============================] - 7s 24ms/step - loss: 0.2247 - accuracy: 0.9062 - val_loss: 0.2362 - val_accuracy: 0.8978\n",
            "Epoch 17/20\n",
            "296/296 [==============================] - 7s 24ms/step - loss: 0.2207 - accuracy: 0.9074 - val_loss: 0.2431 - val_accuracy: 0.8929\n",
            "Epoch 18/20\n",
            "296/296 [==============================] - 7s 25ms/step - loss: 0.2144 - accuracy: 0.9083 - val_loss: 0.2333 - val_accuracy: 0.9024\n",
            "Epoch 19/20\n",
            "296/296 [==============================] - 7s 25ms/step - loss: 0.2101 - accuracy: 0.9116 - val_loss: 0.2276 - val_accuracy: 0.9037\n",
            "Epoch 20/20\n",
            "296/296 [==============================] - 7s 24ms/step - loss: 0.2114 - accuracy: 0.9115 - val_loss: 0.2284 - val_accuracy: 0.9071\n"
          ]
        }
      ]
    },
    {
      "cell_type": "code",
      "source": [
        "def check_model(history):\n",
        "    plt.plot(history.history['accuracy'])\n",
        "    plt.plot(history.history['val_accuracy'])\n",
        "    plt.legend(['accuracy', 'val_accuracy'])\n",
        "    plt.title(\"Accuracy score\")\n",
        "    plt.show()\n",
        "\n",
        "    plt.plot(history.history['loss'])\n",
        "    plt.plot(history.history['val_loss'])\n",
        "    plt.legend(['loss', 'val_loss'])\n",
        "    plt.title(\"Loss score\")\n",
        "    plt.show()\n"
      ],
      "metadata": {
        "id": "4TBZzNrjDZxD"
      },
      "execution_count": 195,
      "outputs": []
    },
    {
      "cell_type": "code",
      "source": [
        "check_model(gen_history)"
      ],
      "metadata": {
        "colab": {
          "base_uri": "https://localhost:8080/",
          "height": 545
        },
        "id": "4XpbMdsPHVMQ",
        "outputId": "3b7132d7-4d1c-4d83-b868-ce67730f91e8"
      },
      "execution_count": 196,
      "outputs": [
        {
          "output_type": "display_data",
          "data": {
            "text/plain": [
              "<Figure size 432x288 with 1 Axes>"
            ],
            "image/png": "[encoded data removed]"
          },
          "metadata": {
            "needs_background": "light"
          }
        },
        {
          "output_type": "display_data",
          "data": {
            "text/plain": [
              "<Figure size 432x288 with 1 Axes>"
            ],
            "image/png": "[encoded data removed]"
          },
          "metadata": {
            "needs_background": "light"
          }
        }
      ]
    },
    {
      "cell_type": "code",
      "source": [
        "## Saving the model in file\n",
        "joblib.dump(gen_model, open('gender_model.pkl', 'wb'))\n",
        "print(\"Done\")"
      ],
      "metadata": {
        "colab": {
          "base_uri": "https://localhost:8080/"
        },
        "id": "V1Fc4-GeHYwg",
        "outputId": "f267b683-045c-4f5e-8363-2c59dd4f3878"
      },
      "execution_count": 198,
      "outputs": [
        {
          "output_type": "stream",
          "name": "stdout",
          "text": [
            "INFO:tensorflow:Assets written to: ram://a3369561-bbc6-40ba-98c4-847e25d9e3d4/assets\n",
            "Done\n"
          ]
        }
      ]
    },
    {
      "cell_type": "code",
      "source": [
        "model = joblib.load(open('gender_model.pkl','rb'))\n",
        "# np.expand_dims(X_test[0], 0).shape ## Shape of new image to be tested\n",
        "print(model.predict(np.expand_dims(X_test[2], 0)))\n",
        "y_test.head()"
      ],
      "metadata": {
        "colab": {
          "base_uri": "https://localhost:8080/"
        },
        "id": "jyQ71AnQKxRg",
        "outputId": "118f68e2-216f-4b32-afa7-dddc4a9a22b8"
      },
      "execution_count": 221,
      "outputs": [
        {
          "output_type": "stream",
          "name": "stdout",
          "text": [
            "[[0.]]\n"
          ]
        },
        {
          "output_type": "execute_result",
          "data": {
            "text/plain": [
              "16899    0\n",
              "335      0\n",
              "13720    0\n",
              "9100     1\n",
              "4630     1\n",
              "Name: gender, dtype: int64"
            ]
          },
          "metadata": {},
          "execution_count": 221
        }
      ]
    },
    {
      "cell_type": "markdown",
      "source": [
        "# **`Now Creating the Age model`**"
      ],
      "metadata": {
        "id": "pvzc6n6VN_76"
      }
    },
    {
      "cell_type": "code",
      "source": [
        "age_model = models.Sequential([\n",
        "    layers.Conv2D(64, (3, 3), input_shape=(48, 48, 1), padding = 'same', activation='relu'),\n",
        "    layers.BatchNormalization(),\n",
        "    layers.MaxPooling2D((2, 2)), \n",
        "    layers.Dropout(0.2),\n",
        "\n",
        "    layers.Conv2D(128, (3, 3), padding = 'same', activation= 'relu'),\n",
        "    layers.BatchNormalization(),\n",
        "    layers.Conv2D(64, (3, 3), padding = 'same', activation= 'relu'),\n",
        "    layers.BatchNormalization(),\n",
        "    layers.MaxPooling2D((2, 2)),\n",
        "    layers.Dropout(0.3),\n",
        "\n",
        "    layers.Conv2D(256, (3, 3), padding = 'same', activation= 'relu'),\n",
        "    layers.MaxPooling2D((2, 2)),\n",
        "    layers.Dropout(0.4),\n",
        "    \n",
        "    layers.Flatten(),\n",
        "    layers.Dense(512, activation = 'relu'),\n",
        "    layers.Dense(256, activation = 'relu'),\n",
        "    layers.Dense(1, activation = 'relu')\n",
        "])\n",
        "\n",
        "age_model.compile(optimizer = 'adam',\n",
        "                  loss = 'mean_squared_error',\n",
        "                  metrics = ['mae'])\n",
        "age_model.summary()"
      ],
      "metadata": {
        "colab": {
          "base_uri": "https://localhost:8080/"
        },
        "id": "kvynZiqvN01h",
        "outputId": "07f55425-6170-42c5-8cbd-4f0e0e460b3a"
      },
      "execution_count": 238,
      "outputs": [
        {
          "output_type": "stream",
          "name": "stdout",
          "text": [
            "Model: \"sequential_12\"\n",
            "_________________________________________________________________\n",
            " Layer (type)                Output Shape              Param #   \n",
            "=================================================================\n",
            " conv2d_40 (Conv2D)          (None, 48, 48, 64)        640       \n",
            "                                                                 \n",
            " batch_normalization_14 (Bat  (None, 48, 48, 64)       256       \n",
            " chNormalization)                                                \n",
            "                                                                 \n",
            " max_pooling2d_36 (MaxPoolin  (None, 24, 24, 64)       0         \n",
            " g2D)                                                            \n",
            "                                                                 \n",
            " dropout_14 (Dropout)        (None, 24, 24, 64)        0         \n",
            "                                                                 \n",
            " conv2d_41 (Conv2D)          (None, 24, 24, 128)       73856     \n",
            "                                                                 \n",
            " batch_normalization_15 (Bat  (None, 24, 24, 128)      512       \n",
            " chNormalization)                                                \n",
            "                                                                 \n",
            " conv2d_42 (Conv2D)          (None, 24, 24, 64)        73792     \n",
            "                                                                 \n",
            " batch_normalization_16 (Bat  (None, 24, 24, 64)       256       \n",
            " chNormalization)                                                \n",
            "                                                                 \n",
            " max_pooling2d_37 (MaxPoolin  (None, 12, 12, 64)       0         \n",
            " g2D)                                                            \n",
            "                                                                 \n",
            " dropout_15 (Dropout)        (None, 12, 12, 64)        0         \n",
            "                                                                 \n",
            " conv2d_43 (Conv2D)          (None, 12, 12, 256)       147712    \n",
            "                                                                 \n",
            " max_pooling2d_38 (MaxPoolin  (None, 6, 6, 256)        0         \n",
            " g2D)                                                            \n",
            "                                                                 \n",
            " dropout_16 (Dropout)        (None, 6, 6, 256)         0         \n",
            "                                                                 \n",
            " flatten_12 (Flatten)        (None, 9216)              0         \n",
            "                                                                 \n",
            " dense_26 (Dense)            (None, 512)               4719104   \n",
            "                                                                 \n",
            " dense_27 (Dense)            (None, 256)               131328    \n",
            "                                                                 \n",
            " dense_28 (Dense)            (None, 1)                 257       \n",
            "                                                                 \n",
            "=================================================================\n",
            "Total params: 5,147,713\n",
            "Trainable params: 5,147,201\n",
            "Non-trainable params: 512\n",
            "_________________________________________________________________\n"
          ]
        }
      ]
    },
    {
      "cell_type": "code",
      "source": [
        "y = df['age']\n",
        "X_train, X_test, y_train, y_test = train_test_split(X, y, test_size = 0.2, random_state = 0)"
      ],
      "metadata": {
        "id": "eKt-NqEyOuOR"
      },
      "execution_count": 239,
      "outputs": []
    },
    {
      "cell_type": "code",
      "source": [
        "class MyCallback(Callback):\n",
        "    def on_epoch_end(self, epoch, logs={}):\n",
        "            self.model.save(\"model_{}.hd5\".format(epoch))"
      ],
      "metadata": {
        "id": "_KZkBle0Som1"
      },
      "execution_count": 240,
      "outputs": []
    },
    {
      "cell_type": "code",
      "source": [
        "age_history = age_model.fit(X_train, y_train,\n",
        "          validation_split = 0.2, \n",
        "          batch_size = 32,\n",
        "          epochs = 25,\n",
        "          callbacks = [MyCallback()])"
      ],
      "metadata": {
        "colab": {
          "base_uri": "https://localhost:8080/"
        },
        "id": "pu9mcfQOPOwp",
        "outputId": "726f5c34-214b-42be-d493-24be7491e23e"
      },
      "execution_count": 241,
      "outputs": [
        {
          "output_type": "stream",
          "name": "stdout",
          "text": [
            "Epoch 1/25\n",
            "470/475 [============================>.] - ETA: 0s - loss: 230.7919 - mae: 11.2028INFO:tensorflow:Assets written to: model_0.hd5/assets\n",
            "475/475 [==============================] - 9s 17ms/step - loss: 230.5667 - mae: 11.1963 - val_loss: 370.7558 - val_mae: 14.0030\n",
            "Epoch 2/25\n",
            "470/475 [============================>.] - ETA: 0s - loss: 142.9943 - mae: 8.7873INFO:tensorflow:Assets written to: model_1.hd5/assets\n",
            "475/475 [==============================] - 8s 17ms/step - loss: 143.0938 - mae: 8.7918 - val_loss: 271.2920 - val_mae: 13.2107\n",
            "Epoch 3/25\n",
            "470/475 [============================>.] - ETA: 0s - loss: 121.4858 - mae: 8.0884INFO:tensorflow:Assets written to: model_2.hd5/assets\n",
            "475/475 [==============================] - 9s 19ms/step - loss: 121.1116 - mae: 8.0746 - val_loss: 591.6434 - val_mae: 19.2998\n",
            "Epoch 4/25\n",
            "474/475 [============================>.] - ETA: 0s - loss: 112.6487 - mae: 7.7781INFO:tensorflow:Assets written to: model_3.hd5/assets\n",
            "475/475 [==============================] - 8s 17ms/step - loss: 112.6622 - mae: 7.7782 - val_loss: 287.1700 - val_mae: 12.4271\n",
            "Epoch 5/25\n",
            "471/475 [============================>.] - ETA: 0s - loss: 103.8002 - mae: 7.4402INFO:tensorflow:Assets written to: model_4.hd5/assets\n",
            "475/475 [==============================] - 8s 16ms/step - loss: 103.6276 - mae: 7.4348 - val_loss: 489.3066 - val_mae: 17.9088\n",
            "Epoch 6/25\n",
            "471/475 [============================>.] - ETA: 0s - loss: 92.1176 - mae: 7.0314INFO:tensorflow:Assets written to: model_5.hd5/assets\n",
            "475/475 [==============================] - 8s 16ms/step - loss: 92.2335 - mae: 7.0381 - val_loss: 118.6277 - val_mae: 7.5645\n",
            "Epoch 7/25\n",
            "474/475 [============================>.] - ETA: 0s - loss: 88.0909 - mae: 6.8556INFO:tensorflow:Assets written to: model_6.hd5/assets\n",
            "475/475 [==============================] - 9s 19ms/step - loss: 88.0874 - mae: 6.8555 - val_loss: 233.6852 - val_mae: 11.8390\n",
            "Epoch 8/25\n",
            "471/475 [============================>.] - ETA: 0s - loss: 83.6476 - mae: 6.6945INFO:tensorflow:Assets written to: model_7.hd5/assets\n",
            "475/475 [==============================] - 8s 16ms/step - loss: 83.9411 - mae: 6.6965 - val_loss: 173.0090 - val_mae: 10.0782\n",
            "Epoch 9/25\n",
            "472/475 [============================>.] - ETA: 0s - loss: 81.4219 - mae: 6.6162INFO:tensorflow:Assets written to: model_8.hd5/assets\n",
            "475/475 [==============================] - 8s 16ms/step - loss: 81.4454 - mae: 6.6165 - val_loss: 531.7637 - val_mae: 18.5778\n",
            "Epoch 10/25\n",
            "473/475 [============================>.] - ETA: 0s - loss: 77.7378 - mae: 6.4528INFO:tensorflow:Assets written to: model_9.hd5/assets\n",
            "475/475 [==============================] - 9s 19ms/step - loss: 77.7044 - mae: 6.4519 - val_loss: 104.9965 - val_mae: 7.0552\n",
            "Epoch 11/25\n",
            "472/475 [============================>.] - ETA: 0s - loss: 71.2367 - mae: 6.2129INFO:tensorflow:Assets written to: model_10.hd5/assets\n",
            "475/475 [==============================] - 8s 17ms/step - loss: 71.2678 - mae: 6.2148 - val_loss: 716.8845 - val_mae: 21.1101\n",
            "Epoch 12/25\n",
            "472/475 [============================>.] - ETA: 0s - loss: 68.2552 - mae: 6.0942INFO:tensorflow:Assets written to: model_11.hd5/assets\n",
            "475/475 [==============================] - 8s 16ms/step - loss: 68.4021 - mae: 6.1012 - val_loss: 138.5712 - val_mae: 8.6671\n",
            "Epoch 13/25\n",
            "475/475 [==============================] - ETA: 0s - loss: 68.4027 - mae: 6.0899INFO:tensorflow:Assets written to: model_12.hd5/assets\n",
            "475/475 [==============================] - 9s 19ms/step - loss: 68.4027 - mae: 6.0899 - val_loss: 376.0633 - val_mae: 15.3826\n",
            "Epoch 14/25\n",
            "471/475 [============================>.] - ETA: 0s - loss: 65.6900 - mae: 5.9738INFO:tensorflow:Assets written to: model_13.hd5/assets\n",
            "475/475 [==============================] - 8s 17ms/step - loss: 65.7923 - mae: 5.9777 - val_loss: 77.2525 - val_mae: 6.2681\n",
            "Epoch 15/25\n",
            "472/475 [============================>.] - ETA: 0s - loss: 61.3774 - mae: 5.7992INFO:tensorflow:Assets written to: model_14.hd5/assets\n",
            "475/475 [==============================] - 8s 17ms/step - loss: 61.4103 - mae: 5.8020 - val_loss: 91.2710 - val_mae: 6.9236\n",
            "Epoch 16/25\n",
            "474/475 [============================>.] - ETA: 0s - loss: 55.9613 - mae: 5.5541INFO:tensorflow:Assets written to: model_15.hd5/assets\n",
            "475/475 [==============================] - 9s 19ms/step - loss: 55.9539 - mae: 5.5538 - val_loss: 129.5621 - val_mae: 8.3589\n",
            "Epoch 17/25\n",
            "473/475 [============================>.] - ETA: 0s - loss: 54.5333 - mae: 5.4955INFO:tensorflow:Assets written to: model_16.hd5/assets\n",
            "475/475 [==============================] - 8s 16ms/step - loss: 54.5654 - mae: 5.4958 - val_loss: 100.1098 - val_mae: 7.1082\n",
            "Epoch 18/25\n",
            "474/475 [============================>.] - ETA: 0s - loss: 54.9622 - mae: 5.4812INFO:tensorflow:Assets written to: model_17.hd5/assets\n",
            "475/475 [==============================] - 8s 16ms/step - loss: 54.9631 - mae: 5.4815 - val_loss: 112.4655 - val_mae: 7.8084\n",
            "Epoch 19/25\n",
            "471/475 [============================>.] - ETA: 0s - loss: 50.7209 - mae: 5.2733INFO:tensorflow:Assets written to: model_18.hd5/assets\n",
            "475/475 [==============================] - 8s 17ms/step - loss: 50.7867 - mae: 5.2771 - val_loss: 223.6096 - val_mae: 11.0480\n",
            "Epoch 20/25\n",
            "473/475 [============================>.] - ETA: 0s - loss: 47.6233 - mae: 5.1524INFO:tensorflow:Assets written to: model_19.hd5/assets\n",
            "475/475 [==============================] - 9s 19ms/step - loss: 47.6377 - mae: 5.1547 - val_loss: 200.6835 - val_mae: 10.1882\n",
            "Epoch 21/25\n",
            "474/475 [============================>.] - ETA: 0s - loss: 49.2146 - mae: 5.2239INFO:tensorflow:Assets written to: model_20.hd5/assets\n",
            "475/475 [==============================] - 8s 18ms/step - loss: 49.2166 - mae: 5.2243 - val_loss: 173.1865 - val_mae: 9.4649\n",
            "Epoch 22/25\n",
            "472/475 [============================>.] - ETA: 0s - loss: 45.8167 - mae: 5.0677INFO:tensorflow:Assets written to: model_21.hd5/assets\n",
            "475/475 [==============================] - 11s 24ms/step - loss: 45.8324 - mae: 5.0687 - val_loss: 133.7960 - val_mae: 8.1767\n",
            "Epoch 23/25\n",
            "471/475 [============================>.] - ETA: 0s - loss: 48.5921 - mae: 5.1906INFO:tensorflow:Assets written to: model_22.hd5/assets\n",
            "475/475 [==============================] - 10s 20ms/step - loss: 48.4805 - mae: 5.1849 - val_loss: 76.7380 - val_mae: 6.2979\n",
            "Epoch 24/25\n",
            "471/475 [============================>.] - ETA: 0s - loss: 44.6440 - mae: 4.9741INFO:tensorflow:Assets written to: model_23.hd5/assets\n",
            "475/475 [==============================] - 8s 16ms/step - loss: 44.6630 - mae: 4.9740 - val_loss: 92.8558 - val_mae: 6.8356\n",
            "Epoch 25/25\n",
            "471/475 [============================>.] - ETA: 0s - loss: 42.8511 - mae: 4.8801INFO:tensorflow:Assets written to: model_24.hd5/assets\n",
            "475/475 [==============================] - 8s 16ms/step - loss: 42.9334 - mae: 4.8854 - val_loss: 143.4023 - val_mae: 8.6586\n"
          ]
        }
      ]
    },
    {
      "cell_type": "code",
      "source": [
        "def check_reg_model(history):\n",
        "    plt.plot(history.history['mae'])\n",
        "    plt.plot(history.history['val_mae'])\n",
        "    plt.legend(['mae', 'val_mae'])\n",
        "    plt.title(\"Mean Sqared score\")\n",
        "    plt.show()\n",
        "\n",
        "    plt.plot(history.history['loss'])\n",
        "    plt.plot(history.history['val_loss'])\n",
        "    plt.legend(['loss', 'val_loss'])\n",
        "    plt.title(\"Loss score\")\n",
        "    plt.show()"
      ],
      "metadata": {
        "id": "Pbm8d-6wPcPO"
      },
      "execution_count": 243,
      "outputs": []
    },
    {
      "cell_type": "code",
      "source": [
        "check_reg_model(age_history)"
      ],
      "metadata": {
        "colab": {
          "base_uri": "https://localhost:8080/",
          "height": 545
        },
        "id": "Agab-zJpT-no",
        "outputId": "1c792844-c027-4b52-92b0-b06e5cb2fc94"
      },
      "execution_count": 244,
      "outputs": [
        {
          "output_type": "display_data",
          "data": {
            "text/plain": [
              "<Figure size 432x288 with 1 Axes>"
            ],
            "image/png": "[encoded data removed]"
          },
          "metadata": {
            "needs_background": "light"
          }
        },
        {
          "output_type": "display_data",
          "data": {
            "text/plain": [
              "<Figure size 432x288 with 1 Axes>"
            ],
            "image/png": "[encoded data removed]"
          },
          "metadata": {
            "needs_background": "light"
          }
        }
      ]
    },
    {
      "cell_type": "code",
      "source": [
        "## Here it seems that 23rd epochs model is best model\n",
        "## SO i will load and check the error\n",
        "\n",
        "md = models.load_model('model_22.hd5')"
      ],
      "metadata": {
        "id": "Ol2QrjgSUYdf"
      },
      "execution_count": 247,
      "outputs": []
    },
    {
      "cell_type": "code",
      "source": [
        "pred = md.predict(X_test)"
      ],
      "metadata": {
        "id": "87ix6oBXUn1f"
      },
      "execution_count": 251,
      "outputs": []
    },
    {
      "cell_type": "code",
      "source": [
        "print(math.sqrt(mean_squared_error(pred, y_test)))"
      ],
      "metadata": {
        "colab": {
          "base_uri": "https://localhost:8080/"
        },
        "id": "5JZ5rGFoVWcp",
        "outputId": "34b3673b-432f-40e3-fd51-e622b25e85d3"
      },
      "execution_count": 252,
      "outputs": [
        {
          "output_type": "stream",
          "name": "stdout",
          "text": [
            "8.846451946282729\n"
          ]
        }
      ]
    }
  ]
}