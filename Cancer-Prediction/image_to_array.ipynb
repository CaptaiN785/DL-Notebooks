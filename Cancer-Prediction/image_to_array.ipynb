{
 "cells": [
  {
   "cell_type": "code",
   "execution_count": 1,
   "id": "18974685",
   "metadata": {},
   "outputs": [
    {
     "name": "stderr",
     "output_type": "stream",
     "text": [
      "C:\\Users\\USER\\AppData\\Local\\Programs\\Python\\Python310\\lib\\site-packages\\requests\\__init__.py:102: RequestsDependencyWarning: urllib3 (1.26.9) or chardet (5.0.0)/charset_normalizer (2.0.12) doesn't match a supported version!\n",
      "  warnings.warn(\"urllib3 ({}) or chardet ({})/charset_normalizer ({}) doesn't match a supported \"\n"
     ]
    }
   ],
   "source": [
    "from tensorflow.keras import layers, models, preprocessing\n",
    "import cv2 as cv\n",
    "import matplotlib.pyplot as plt\n",
    "import numpy as np\n",
    "import os\n",
    "import pickle\n",
    "import pandas as pd\n",
    "from tqdm import tqdm"
   ]
  },
  {
   "cell_type": "code",
   "execution_count": 3,
   "id": "3154dd97",
   "metadata": {
    "scrolled": true
   },
   "outputs": [
    {
     "data": {
      "text/plain": [
       "'2.8.0'"
      ]
     },
     "execution_count": 3,
     "metadata": {},
     "output_type": "execute_result"
    }
   ],
   "source": [
    "import tensorflow\n",
    "tensorflow.__version__"
   ]
  },
  {
   "cell_type": "code",
   "execution_count": 2,
   "id": "bafcd824",
   "metadata": {},
   "outputs": [
    {
     "data": {
      "text/plain": [
       "['benign', 'malignant']"
      ]
     },
     "execution_count": 2,
     "metadata": {},
     "output_type": "execute_result"
    }
   ],
   "source": [
    "data_path = \"data/data\"\n",
    "os.listdir(data_path)"
   ]
  },
  {
   "cell_type": "markdown",
   "id": "e7ce61f5",
   "metadata": {},
   "source": [
    "## Loading data"
   ]
  },
  {
   "cell_type": "code",
   "execution_count": 4,
   "id": "88979eeb",
   "metadata": {},
   "outputs": [],
   "source": [
    "def load_data(dir, shape = (256, 256, 3)):\n",
    "    IMAGES = []\n",
    "    for image in tqdm(os.listdir(dir)):\n",
    "        image_path = os.path.join(dir, image)\n",
    "        img = cv.imread(image_path)\n",
    "        img.resize(shape)\n",
    "        im_rgb = cv.cvtColor(img, cv.COLOR_BGR2RGB)\n",
    "        IMAGES.append(np.array(img))\n",
    "    print(\"Data loaded.\")\n",
    "    return np.array(IMAGES)"
   ]
  },
  {
   "cell_type": "code",
   "execution_count": 5,
   "id": "c3043b9d",
   "metadata": {},
   "outputs": [
    {
     "name": "stderr",
     "output_type": "stream",
     "text": [
      "100%|████████████████████████████████████████████| 2480/2480 [04:00<00:00, 10.32it/s]\n"
     ]
    },
    {
     "name": "stdout",
     "output_type": "stream",
     "text": [
      "Data loaded.\n"
     ]
    }
   ],
   "source": [
    "benign = load_data('data/data/benign')"
   ]
  },
  {
   "cell_type": "code",
   "execution_count": 6,
   "id": "732e3130",
   "metadata": {},
   "outputs": [
    {
     "name": "stderr",
     "output_type": "stream",
     "text": [
      "100%|████████████████████████████████████████████| 5429/5429 [08:27<00:00, 10.70it/s]\n"
     ]
    },
    {
     "name": "stdout",
     "output_type": "stream",
     "text": [
      "Data loaded.\n"
     ]
    }
   ],
   "source": [
    "malignant = load_data('data/data/malignant')"
   ]
  },
  {
   "cell_type": "code",
   "execution_count": 11,
   "id": "5e531899",
   "metadata": {},
   "outputs": [
    {
     "data": {
      "text/plain": [
       "465.0001525878906"
      ]
     },
     "execution_count": 11,
     "metadata": {},
     "output_type": "execute_result"
    }
   ],
   "source": [
    "## Now saving all matrix data into file for further use\n",
    "import sys\n",
    "sys.getsizeof(benign)/(1024*1024) ## 465MB"
   ]
  },
  {
   "cell_type": "code",
   "execution_count": 14,
   "id": "3c6e3842",
   "metadata": {},
   "outputs": [
    {
     "data": {
      "text/plain": [
       "1017.9376525878906"
      ]
     },
     "execution_count": 14,
     "metadata": {},
     "output_type": "execute_result"
    }
   ],
   "source": [
    "sys.getsizeof(malignant)/(1024*1024) ## Around 1GB"
   ]
  },
  {
   "cell_type": "code",
   "execution_count": 20,
   "id": "00941581",
   "metadata": {},
   "outputs": [],
   "source": [
    "## Originally it is 4GB of data"
   ]
  },
  {
   "cell_type": "code",
   "execution_count": 27,
   "id": "8d5b3174",
   "metadata": {},
   "outputs": [],
   "source": [
    "def save_data(obj, dir):\n",
    "    for i, image_data in tqdm(enumerate(obj)):\n",
    "        path = dir + '{}.pkl'.format(i)\n",
    "        pickle.dump(image_data, open(path, 'wb'))"
   ]
  },
  {
   "cell_type": "code",
   "execution_count": 28,
   "id": "03fbfdb7",
   "metadata": {},
   "outputs": [
    {
     "name": "stderr",
     "output_type": "stream",
     "text": [
      "2480it [01:55, 21.53it/s] \n"
     ]
    }
   ],
   "source": [
    "save_data(benign, 'images/benign/')"
   ]
  },
  {
   "cell_type": "code",
   "execution_count": 24,
   "id": "1bbcc452",
   "metadata": {},
   "outputs": [
    {
     "data": {
      "text/plain": [
       "['.ipynb_checkpoints', 'data', 'images', 'main.ipynb']"
      ]
     },
     "execution_count": 24,
     "metadata": {},
     "output_type": "execute_result"
    }
   ],
   "source": [
    "os.listdir()"
   ]
  },
  {
   "cell_type": "code",
   "execution_count": null,
   "id": "e948cef1",
   "metadata": {
    "scrolled": false
   },
   "outputs": [
    {
     "name": "stderr",
     "output_type": "stream",
     "text": [
      "3025it [01:52,  8.62it/s] "
     ]
    }
   ],
   "source": [
    "save_data(malignant, 'images/malignant/')"
   ]
  },
  {
   "cell_type": "code",
   "execution_count": 33,
   "id": "7ab77d43",
   "metadata": {},
   "outputs": [],
   "source": [
    "img = pickle.load(open('images/benign/0.pkl', 'rb'))"
   ]
  },
  {
   "cell_type": "code",
   "execution_count": null,
   "id": "1d5a99e3",
   "metadata": {},
   "outputs": [],
   "source": [
    "img.shape"
   ]
  },
  {
   "cell_type": "code",
   "execution_count": 35,
   "id": "9e3934f3",
   "metadata": {},
   "outputs": [],
   "source": [
    "import alarm\n",
    "alarm.play()"
   ]
  },
  {
   "cell_type": "code",
   "execution_count": 36,
   "id": "fddf9ff3",
   "metadata": {},
   "outputs": [],
   "source": [
    "alarm.stop()"
   ]
  },
  {
   "cell_type": "code",
   "execution_count": null,
   "id": "96cb60d8",
   "metadata": {},
   "outputs": [],
   "source": []
  }
 ],
 "metadata": {
  "kernelspec": {
   "display_name": "Python 3 (ipykernel)",
   "language": "python",
   "name": "python3"
  },
  "language_info": {
   "codemirror_mode": {
    "name": "ipython",
    "version": 3
   },
   "file_extension": ".py",
   "mimetype": "text/x-python",
   "name": "python",
   "nbconvert_exporter": "python",
   "pygments_lexer": "ipython3",
   "version": "3.10.3"
  }
 },
 "nbformat": 4,
 "nbformat_minor": 5
}
