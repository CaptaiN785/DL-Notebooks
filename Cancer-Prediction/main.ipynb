{
 "cells": [
  {
   "cell_type": "code",
   "execution_count": 1,
   "id": "18974685",
   "metadata": {},
   "outputs": [
    {
     "name": "stderr",
     "output_type": "stream",
     "text": [
      "C:\\Users\\USER\\AppData\\Local\\Programs\\Python\\Python310\\lib\\site-packages\\requests\\__init__.py:102: RequestsDependencyWarning: urllib3 (1.26.9) or chardet (5.0.0)/charset_normalizer (2.0.12) doesn't match a supported version!\n",
      "  warnings.warn(\"urllib3 ({}) or chardet ({})/charset_normalizer ({}) doesn't match a supported \"\n"
     ]
    }
   ],
   "source": [
    "from tensorflow.keras import layers, models, preprocessing\n",
    "import cv2 as cv\n",
    "import matplotlib.pyplot as plt\n",
    "import numpy as np\n",
    "import os\n",
    "import pickle\n",
    "import pandas as pd"
   ]
  },
  {
   "cell_type": "code",
   "execution_count": 2,
   "id": "3154dd97",
   "metadata": {
    "scrolled": true
   },
   "outputs": [
    {
     "data": {
      "text/plain": [
       "'2.8.0'"
      ]
     },
     "execution_count": 2,
     "metadata": {},
     "output_type": "execute_result"
    }
   ],
   "source": [
    "import tensorflow\n",
    "tensorflow.__version__"
   ]
  },
  {
   "cell_type": "code",
   "execution_count": 4,
   "id": "bafcd824",
   "metadata": {},
   "outputs": [
    {
     "data": {
      "text/plain": [
       "['benign', 'malignant']"
      ]
     },
     "execution_count": 4,
     "metadata": {},
     "output_type": "execute_result"
    }
   ],
   "source": [
    "data_path = \"data/data\"\n",
    "os.listdir(data_path)"
   ]
  },
  {
   "cell_type": "markdown",
   "id": "e7ce61f5",
   "metadata": {},
   "source": [
    "## Loading data"
   ]
  },
  {
   "cell_type": "code",
   "execution_count": 5,
   "id": "0c6f3157",
   "metadata": {},
   "outputs": [],
   "source": [
    "malignant_path = os.path.join(data_path, 'malignant')\n",
    "benign_path = os.path.join(data_path, 'benign')"
   ]
  },
  {
   "cell_type": "code",
   "execution_count": 6,
   "id": "22632e0d",
   "metadata": {
    "scrolled": false
   },
   "outputs": [
    {
     "data": {
      "text/plain": [
       "(5429, 2480)"
      ]
     },
     "execution_count": 6,
     "metadata": {},
     "output_type": "execute_result"
    }
   ],
   "source": [
    "len(os.listdir(malignant_path)), len(os.listdir(benign_path))"
   ]
  },
  {
   "cell_type": "code",
   "execution_count": 29,
   "id": "53449628",
   "metadata": {},
   "outputs": [],
   "source": [
    "img = cv.imread(os.path.join(malignant_path, os.listdir(malignant_path)[0]))"
   ]
  },
  {
   "cell_type": "code",
   "execution_count": 30,
   "id": "d5ba0304",
   "metadata": {},
   "outputs": [],
   "source": [
    "im_rgb = cv.cvtColor(img, cv.COLOR_BGR2RGB)"
   ]
  },
  {
   "cell_type": "code",
   "execution_count": 33,
   "id": "192f3013",
   "metadata": {},
   "outputs": [],
   "source": [
    "im_rgb.resize((240, 240, 3))"
   ]
  },
  {
   "cell_type": "code",
   "execution_count": 34,
   "id": "8769e179",
   "metadata": {},
   "outputs": [
    {
     "data": {
      "text/plain": [
       "(240, 240, 3)"
      ]
     },
     "execution_count": 34,
     "metadata": {},
     "output_type": "execute_result"
    }
   ],
   "source": [
    "im_rgb.shape"
   ]
  },
  {
   "cell_type": "code",
   "execution_count": 36,
   "id": "88979eeb",
   "metadata": {},
   "outputs": [],
   "source": [
    "def load_data(dir, shape = (240, 240, 3)):\n",
    "    IMAGES = []\n",
    "    for image in os.listdir(dir):\n",
    "        image_path = os.path.join(dir, image)\n",
    "        img = cv.imread(image_path)\n",
    "        img.resize(shape)\n",
    "        im_rgb = cv.cvtColor(img, cv.COLOR_BGR2RGB)\n",
    "        IMAGES.append(np.array(img))\n",
    "    print(\"Data loaded.\")\n",
    "    return np.array(IMAGES)\n"
   ]
  },
  {
   "cell_type": "code",
   "execution_count": 37,
   "id": "eafd0028",
   "metadata": {},
   "outputs": [
    {
     "name": "stdout",
     "output_type": "stream",
     "text": [
      "Data loaded.\n",
      "Data loaded.\n"
     ]
    }
   ],
   "source": [
    "## Storing the image in these variable\n",
    "malignant_image = load_data(malignant_path)\n",
    "benign_image = load_data(benign_path)"
   ]
  },
  {
   "cell_type": "code",
   "execution_count": 8,
   "id": "5447e65b",
   "metadata": {
    "scrolled": true
   },
   "outputs": [],
   "source": [
    "# pickle.dump(malignant_image, open('malignant_image.pkl', 'wb'))\n",
    "# pickle.dump(benign_image, open('benign_image.pkl', 'wb'))"
   ]
  },
  {
   "cell_type": "code",
   "execution_count": 10,
   "id": "6c308eb0",
   "metadata": {},
   "outputs": [],
   "source": [
    "## Data is dumped in order to not load all image which takes much more time\n",
    "\n",
    "malignant_image = pickle.load(open('malignant_image.pkl', 'rb'))\n",
    "benign_image = pickle.load(open('benign_image.pkl', 'rb'))"
   ]
  },
  {
   "cell_type": "code",
   "execution_count": 12,
   "id": "69379f89",
   "metadata": {},
   "outputs": [
    {
     "data": {
      "text/plain": [
       "((5429, 240, 240, 3), (2480, 240, 240, 3))"
      ]
     },
     "execution_count": 12,
     "metadata": {},
     "output_type": "execute_result"
    }
   ],
   "source": [
    "malignant_image.shape, benign_image.shape"
   ]
  },
  {
   "cell_type": "code",
   "execution_count": 53,
   "id": "705f0a79",
   "metadata": {},
   "outputs": [
    {
     "name": "stdout",
     "output_type": "stream",
     "text": [
      "\n"
     ]
    }
   ],
   "source": [
    "\"\"\"\n",
    "malignant : 1\n",
    "bening    : 0\n",
    "\"\"\"\n",
    "print()"
   ]
  },
  {
   "cell_type": "code",
   "execution_count": null,
   "id": "2ffa4511",
   "metadata": {},
   "outputs": [],
   "source": [
    "## Dividing the data into train and test split\n",
    "\"\"\"\n",
    "training_size = 80% from each class\n",
    "\n",
    "\"\"\"\n",
    "## Dividing the malignanant image\n",
    "m_train = int(len(malignant_image)*0.8)\n",
    "malignant_train = malignant_image[:m_train]\n",
    "malignant_test = malignant_image[m_train]\n",
    "\n",
    "\n",
    "## Dividing the bening image\n",
    "b_train = int(len(benign_image)*0.8)\n",
    "benign_train = benign_image[:b_train]\n",
    "benign_test = benign_image[b_train: ]\n"
   ]
  },
  {
   "cell_type": "code",
   "execution_count": null,
   "id": "5f74dec2",
   "metadata": {},
   "outputs": [],
   "source": []
  },
  {
   "cell_type": "code",
   "execution_count": null,
   "id": "c3043b9d",
   "metadata": {},
   "outputs": [],
   "source": []
  },
  {
   "cell_type": "code",
   "execution_count": null,
   "id": "732e3130",
   "metadata": {},
   "outputs": [],
   "source": []
  },
  {
   "cell_type": "code",
   "execution_count": null,
   "id": "5e531899",
   "metadata": {},
   "outputs": [],
   "source": []
  },
  {
   "cell_type": "code",
   "execution_count": null,
   "id": "3c6e3842",
   "metadata": {},
   "outputs": [],
   "source": []
  },
  {
   "cell_type": "code",
   "execution_count": null,
   "id": "00941581",
   "metadata": {},
   "outputs": [],
   "source": []
  },
  {
   "cell_type": "code",
   "execution_count": null,
   "id": "8d5b3174",
   "metadata": {},
   "outputs": [],
   "source": []
  },
  {
   "cell_type": "code",
   "execution_count": null,
   "id": "03fbfdb7",
   "metadata": {},
   "outputs": [],
   "source": []
  },
  {
   "cell_type": "code",
   "execution_count": null,
   "id": "1bbcc452",
   "metadata": {},
   "outputs": [],
   "source": []
  },
  {
   "cell_type": "code",
   "execution_count": null,
   "id": "e948cef1",
   "metadata": {},
   "outputs": [],
   "source": []
  },
  {
   "cell_type": "code",
   "execution_count": null,
   "id": "7ab77d43",
   "metadata": {},
   "outputs": [],
   "source": []
  }
 ],
 "metadata": {
  "kernelspec": {
   "display_name": "Python 3 (ipykernel)",
   "language": "python",
   "name": "python3"
  },
  "language_info": {
   "codemirror_mode": {
    "name": "ipython",
    "version": 3
   },
   "file_extension": ".py",
   "mimetype": "text/x-python",
   "name": "python",
   "nbconvert_exporter": "python",
   "pygments_lexer": "ipython3",
   "version": "3.10.3"
  }
 },
 "nbformat": 4,
 "nbformat_minor": 5
}
